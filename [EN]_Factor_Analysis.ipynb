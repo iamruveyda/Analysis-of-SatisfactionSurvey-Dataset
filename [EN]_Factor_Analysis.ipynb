{
    "cells": [
        {
            "attachments": {},
            "cell_type": "markdown",
            "metadata": {},
            "source": [
                "# Introduction\n",
                "\n",
                "- <a href= '#understanding'>Understanding the Dataset</a>\n",
                "- <a href= '#cormatrix'>Correlation Matrix</a>\n",
                "  - <a href= '#corplot'>Correlation Plot</a>\n",
                "- <a href= '#factor-analysis'>Factor Analysis</a>\n",
                "  - <a href= '#kmo-barlett'>KMO and Bartlett's Test</a>\n",
                "    - <a href= '#kmo-test'>KMO Test</a>\n",
                "    - <a href= '#barlett-test'>Bartlett's Test</a>\n",
                "    - <a href= '#anti-image'>Anti-image Correlation/Covariance Matrix</a>\n",
                "  - <a href= '#scree-plot'>Scree Plot</a>\n",
                "    - <a href= '#parallel-analysis'>Parallel Analysis Scree Plots</a>\n",
                "  - <a href= '#rotated-compmatrix'>Rotated Component Matrix</a>\n",
                "    - <a href= '#graph-factor-loading'>Graph Factor Loading Matrices</a>\n",
                "  - <a href= '#cronbach-alpha'>Cronbach's Alpha</a>\n",
                "- <a href= '#conclusion'>Conclusion</a>\n",
                "\n",
                "<a id='understanding'></a>\n",
                "\n",
                "# Understanding the Dataset\n"
            ]
        },
        {
            "cell_type": "code",
            "execution_count": 27,
            "metadata": {
                "vscode": {
                    "languageId": "r"
                }
            },
            "outputs": [
                {
                    "data": {
                        "text/html": [
                            "<ol>\n",
                            "\t<li>TRUE</li>\n",
                            "\t<li>TRUE</li>\n",
                            "\t<li>TRUE</li>\n",
                            "\t<li>TRUE</li>\n",
                            "\t<li>TRUE</li>\n",
                            "\t<li>TRUE</li>\n",
                            "\t<li>TRUE</li>\n",
                            "\t<li>TRUE</li>\n",
                            "</ol>\n"
                        ],
                        "text/latex": [
                            "\\begin{enumerate}\n",
                            "\\item TRUE\n",
                            "\\item TRUE\n",
                            "\\item TRUE\n",
                            "\\item TRUE\n",
                            "\\item TRUE\n",
                            "\\item TRUE\n",
                            "\\item TRUE\n",
                            "\\item TRUE\n",
                            "\\end{enumerate}\n"
                        ],
                        "text/markdown": [
                            "1. TRUE\n",
                            "2. TRUE\n",
                            "3. TRUE\n",
                            "4. TRUE\n",
                            "5. TRUE\n",
                            "6. TRUE\n",
                            "7. TRUE\n",
                            "8. TRUE\n",
                            "\n",
                            "\n"
                        ],
                        "text/plain": [
                            "[[1]]\n",
                            "[1] TRUE\n",
                            "\n",
                            "[[2]]\n",
                            "[1] TRUE\n",
                            "\n",
                            "[[3]]\n",
                            "[1] TRUE\n",
                            "\n",
                            "[[4]]\n",
                            "[1] TRUE\n",
                            "\n",
                            "[[5]]\n",
                            "[1] TRUE\n",
                            "\n",
                            "[[6]]\n",
                            "[1] TRUE\n",
                            "\n",
                            "[[7]]\n",
                            "[1] TRUE\n",
                            "\n",
                            "[[8]]\n",
                            "[1] TRUE\n"
                        ]
                    },
                    "metadata": {},
                    "output_type": "display_data"
                },
                {
                    "data": {
                        "text/html": [
                            "<table class=\"dataframe\">\n",
                            "<caption>A data.frame: 6 × 25</caption>\n",
                            "<thead>\n",
                            "\t<tr><th></th><th scope=col>idCount</th><th scope=col>id</th><th scope=col>Gender</th><th scope=col>CustomerType</th><th scope=col>Age</th><th scope=col>TypeOfTravel</th><th scope=col>Class</th><th scope=col>FlightDistance</th><th scope=col>v1</th><th scope=col>v2</th><th scope=col>⋯</th><th scope=col>v8</th><th scope=col>v9</th><th scope=col>v10</th><th scope=col>v11</th><th scope=col>v12</th><th scope=col>v13</th><th scope=col>v14</th><th scope=col>DepartureDelayinMinutes</th><th scope=col>ArrivalDelayinMinutes</th><th scope=col>Satisfaction</th></tr>\n",
                            "\t<tr><th></th><th scope=col>&lt;int&gt;</th><th scope=col>&lt;int&gt;</th><th scope=col>&lt;int&gt;</th><th scope=col>&lt;int&gt;</th><th scope=col>&lt;int&gt;</th><th scope=col>&lt;int&gt;</th><th scope=col>&lt;int&gt;</th><th scope=col>&lt;int&gt;</th><th scope=col>&lt;int&gt;</th><th scope=col>&lt;int&gt;</th><th scope=col>⋯</th><th scope=col>&lt;int&gt;</th><th scope=col>&lt;int&gt;</th><th scope=col>&lt;int&gt;</th><th scope=col>&lt;int&gt;</th><th scope=col>&lt;int&gt;</th><th scope=col>&lt;int&gt;</th><th scope=col>&lt;int&gt;</th><th scope=col>&lt;int&gt;</th><th scope=col>&lt;int&gt;</th><th scope=col>&lt;chr&gt;</th></tr>\n",
                            "</thead>\n",
                            "<tbody>\n",
                            "\t<tr><th scope=row>1</th><td>1</td><td> 70172</td><td>0</td><td>1</td><td>13</td><td>0</td><td>1</td><td> 460</td><td>3</td><td>4</td><td>⋯</td><td>5</td><td>4</td><td>3</td><td>4</td><td>4</td><td>5</td><td>5</td><td>25</td><td>18</td><td>neutral or dissatisfied</td></tr>\n",
                            "\t<tr><th scope=row>2</th><td>2</td><td>  5047</td><td>0</td><td>0</td><td>25</td><td>1</td><td>2</td><td> 235</td><td>3</td><td>2</td><td>⋯</td><td>1</td><td>1</td><td>5</td><td>3</td><td>1</td><td>4</td><td>1</td><td> 1</td><td> 6</td><td>neutral or dissatisfied</td></tr>\n",
                            "\t<tr><th scope=row>3</th><td>3</td><td>110028</td><td>1</td><td>1</td><td>26</td><td>1</td><td>2</td><td>1142</td><td>2</td><td>2</td><td>⋯</td><td>5</td><td>4</td><td>3</td><td>4</td><td>4</td><td>4</td><td>5</td><td> 0</td><td> 0</td><td>satisfied              </td></tr>\n",
                            "\t<tr><th scope=row>4</th><td>4</td><td> 24026</td><td>1</td><td>1</td><td>25</td><td>1</td><td>2</td><td> 562</td><td>2</td><td>5</td><td>⋯</td><td>2</td><td>2</td><td>5</td><td>3</td><td>1</td><td>4</td><td>2</td><td>11</td><td> 9</td><td>neutral or dissatisfied</td></tr>\n",
                            "\t<tr><th scope=row>5</th><td>5</td><td>119299</td><td>0</td><td>1</td><td>61</td><td>1</td><td>2</td><td> 214</td><td>3</td><td>3</td><td>⋯</td><td>3</td><td>3</td><td>4</td><td>4</td><td>3</td><td>3</td><td>3</td><td> 0</td><td> 0</td><td>satisfied              </td></tr>\n",
                            "\t<tr><th scope=row>6</th><td>6</td><td>111157</td><td>1</td><td>1</td><td>26</td><td>0</td><td>0</td><td>1180</td><td>3</td><td>4</td><td>⋯</td><td>1</td><td>3</td><td>4</td><td>4</td><td>4</td><td>4</td><td>1</td><td> 0</td><td> 0</td><td>neutral or dissatisfied</td></tr>\n",
                            "</tbody>\n",
                            "</table>\n"
                        ],
                        "text/latex": [
                            "A data.frame: 6 × 25\n",
                            "\\begin{tabular}{r|lllllllllllllllllllll}\n",
                            "  & idCount & id & Gender & CustomerType & Age & TypeOfTravel & Class & FlightDistance & v1 & v2 & ⋯ & v8 & v9 & v10 & v11 & v12 & v13 & v14 & DepartureDelayinMinutes & ArrivalDelayinMinutes & Satisfaction\\\\\n",
                            "  & <int> & <int> & <int> & <int> & <int> & <int> & <int> & <int> & <int> & <int> & ⋯ & <int> & <int> & <int> & <int> & <int> & <int> & <int> & <int> & <int> & <chr>\\\\\n",
                            "\\hline\n",
                            "\t1 & 1 &  70172 & 0 & 1 & 13 & 0 & 1 &  460 & 3 & 4 & ⋯ & 5 & 4 & 3 & 4 & 4 & 5 & 5 & 25 & 18 & neutral or dissatisfied\\\\\n",
                            "\t2 & 2 &   5047 & 0 & 0 & 25 & 1 & 2 &  235 & 3 & 2 & ⋯ & 1 & 1 & 5 & 3 & 1 & 4 & 1 &  1 &  6 & neutral or dissatisfied\\\\\n",
                            "\t3 & 3 & 110028 & 1 & 1 & 26 & 1 & 2 & 1142 & 2 & 2 & ⋯ & 5 & 4 & 3 & 4 & 4 & 4 & 5 &  0 &  0 & satisfied              \\\\\n",
                            "\t4 & 4 &  24026 & 1 & 1 & 25 & 1 & 2 &  562 & 2 & 5 & ⋯ & 2 & 2 & 5 & 3 & 1 & 4 & 2 & 11 &  9 & neutral or dissatisfied\\\\\n",
                            "\t5 & 5 & 119299 & 0 & 1 & 61 & 1 & 2 &  214 & 3 & 3 & ⋯ & 3 & 3 & 4 & 4 & 3 & 3 & 3 &  0 &  0 & satisfied              \\\\\n",
                            "\t6 & 6 & 111157 & 1 & 1 & 26 & 0 & 0 & 1180 & 3 & 4 & ⋯ & 1 & 3 & 4 & 4 & 4 & 4 & 1 &  0 &  0 & neutral or dissatisfied\\\\\n",
                            "\\end{tabular}\n"
                        ],
                        "text/markdown": [
                            "\n",
                            "A data.frame: 6 × 25\n",
                            "\n",
                            "| <!--/--> | idCount &lt;int&gt; | id &lt;int&gt; | Gender &lt;int&gt; | CustomerType &lt;int&gt; | Age &lt;int&gt; | TypeOfTravel &lt;int&gt; | Class &lt;int&gt; | FlightDistance &lt;int&gt; | v1 &lt;int&gt; | v2 &lt;int&gt; | ⋯ ⋯ | v8 &lt;int&gt; | v9 &lt;int&gt; | v10 &lt;int&gt; | v11 &lt;int&gt; | v12 &lt;int&gt; | v13 &lt;int&gt; | v14 &lt;int&gt; | DepartureDelayinMinutes &lt;int&gt; | ArrivalDelayinMinutes &lt;int&gt; | Satisfaction &lt;chr&gt; |\n",
                            "|---|---|---|---|---|---|---|---|---|---|---|---|---|---|---|---|---|---|---|---|---|---|\n",
                            "| 1 | 1 |  70172 | 0 | 1 | 13 | 0 | 1 |  460 | 3 | 4 | ⋯ | 5 | 4 | 3 | 4 | 4 | 5 | 5 | 25 | 18 | neutral or dissatisfied |\n",
                            "| 2 | 2 |   5047 | 0 | 0 | 25 | 1 | 2 |  235 | 3 | 2 | ⋯ | 1 | 1 | 5 | 3 | 1 | 4 | 1 |  1 |  6 | neutral or dissatisfied |\n",
                            "| 3 | 3 | 110028 | 1 | 1 | 26 | 1 | 2 | 1142 | 2 | 2 | ⋯ | 5 | 4 | 3 | 4 | 4 | 4 | 5 |  0 |  0 | satisfied               |\n",
                            "| 4 | 4 |  24026 | 1 | 1 | 25 | 1 | 2 |  562 | 2 | 5 | ⋯ | 2 | 2 | 5 | 3 | 1 | 4 | 2 | 11 |  9 | neutral or dissatisfied |\n",
                            "| 5 | 5 | 119299 | 0 | 1 | 61 | 1 | 2 |  214 | 3 | 3 | ⋯ | 3 | 3 | 4 | 4 | 3 | 3 | 3 |  0 |  0 | satisfied               |\n",
                            "| 6 | 6 | 111157 | 1 | 1 | 26 | 0 | 0 | 1180 | 3 | 4 | ⋯ | 1 | 3 | 4 | 4 | 4 | 4 | 1 |  0 |  0 | neutral or dissatisfied |\n",
                            "\n"
                        ],
                        "text/plain": [
                            "  idCount id     Gender CustomerType Age TypeOfTravel Class FlightDistance v1\n",
                            "1 1        70172 0      1            13  0            1      460           3 \n",
                            "2 2         5047 0      0            25  1            2      235           3 \n",
                            "3 3       110028 1      1            26  1            2     1142           2 \n",
                            "4 4        24026 1      1            25  1            2      562           2 \n",
                            "5 5       119299 0      1            61  1            2      214           3 \n",
                            "6 6       111157 1      1            26  0            0     1180           3 \n",
                            "  v2 ⋯ v8 v9 v10 v11 v12 v13 v14 DepartureDelayinMinutes ArrivalDelayinMinutes\n",
                            "1 4  ⋯ 5  4  3   4   4   5   5   25                      18                   \n",
                            "2 2  ⋯ 1  1  5   3   1   4   1    1                       6                   \n",
                            "3 2  ⋯ 5  4  3   4   4   4   5    0                       0                   \n",
                            "4 5  ⋯ 2  2  5   3   1   4   2   11                       9                   \n",
                            "5 3  ⋯ 3  3  4   4   3   3   3    0                       0                   \n",
                            "6 4  ⋯ 1  3  4   4   4   4   1    0                       0                   \n",
                            "  Satisfaction           \n",
                            "1 neutral or dissatisfied\n",
                            "2 neutral or dissatisfied\n",
                            "3 satisfied              \n",
                            "4 neutral or dissatisfied\n",
                            "5 satisfied              \n",
                            "6 neutral or dissatisfied"
                        ]
                    },
                    "metadata": {},
                    "output_type": "display_data"
                }
            ],
            "source": [
                "# R Packages\n",
                "packages <-\n",
                "  c(\n",
                "    \"tidyverse\",\n",
                "    \"ggplot2\",\n",
                "    \"rstatix\",\n",
                "    \"pander\",\n",
                "    \"heplots\",\n",
                "    \"readr\",\n",
                "    \"psych\",\n",
                "    \"corrplot\"\n",
                "  )\n",
                "\n",
                "suppressPackageStartupMessages(lapply(packages, require, character.only = TRUE))\n",
                "\n",
                "# Importing Data\n",
                "df <- read.csv(\"./R/dataset/data.csv\", sep = \";\")\n",
                "\n",
                "\n",
                "# for kaggle\n",
                "# df <- read.csv(\"../input/airline-passenger-satisfaction/train.csv, sep = \";\")\n",
                "\n",
                "# Top 6 rows\n",
                "head(df)\n"
            ]
        },
        {
            "cell_type": "code",
            "execution_count": 28,
            "metadata": {
                "vscode": {
                    "languageId": "r"
                }
            },
            "outputs": [
                {
                    "data": {
                        "text/html": [
                            "'data.frame'"
                        ],
                        "text/latex": [
                            "'data.frame'"
                        ],
                        "text/markdown": [
                            "'data.frame'"
                        ],
                        "text/plain": [
                            "[1] \"data.frame\""
                        ]
                    },
                    "metadata": {},
                    "output_type": "display_data"
                }
            ],
            "source": [
                "class(df)\n"
            ]
        },
        {
            "cell_type": "code",
            "execution_count": 29,
            "metadata": {
                "vscode": {
                    "languageId": "r"
                }
            },
            "outputs": [
                {
                    "name": "stdout",
                    "output_type": "stream",
                    "text": [
                        "'data.frame':\t103904 obs. of  25 variables:\n",
                        " $ idCount                : int  1 2 3 4 5 6 7 8 9 10 ...\n",
                        " $ id                     : int  70172 5047 110028 24026 119299 111157 82113 96462 79485 65725 ...\n",
                        " $ Gender                 : int  0 0 1 1 0 1 0 1 1 0 ...\n",
                        " $ CustomerType           : int  1 0 1 1 1 1 1 1 1 0 ...\n",
                        " $ Age                    : int  13 25 26 25 61 26 47 52 41 20 ...\n",
                        " $ TypeOfTravel           : int  0 1 1 1 1 0 0 1 1 1 ...\n",
                        " $ Class                  : int  1 2 2 2 2 0 0 2 2 0 ...\n",
                        " $ FlightDistance         : int  460 235 1142 562 214 1180 1276 2035 853 1061 ...\n",
                        " $ v1                     : int  3 3 2 2 3 3 2 4 1 3 ...\n",
                        " $ v2                     : int  4 2 2 5 3 4 4 3 2 3 ...\n",
                        " $ v3                     : int  3 3 2 5 3 2 2 4 2 3 ...\n",
                        " $ v4                     : int  1 3 2 5 3 1 3 4 2 4 ...\n",
                        " $ v5                     : int  5 1 5 2 4 1 2 5 4 2 ...\n",
                        " $ v6                     : int  3 3 5 2 5 2 2 5 3 3 ...\n",
                        " $ v7                     : int  5 1 5 2 5 1 2 5 3 3 ...\n",
                        " $ v8                     : int  5 1 5 2 3 1 2 5 1 2 ...\n",
                        " $ v9                     : int  4 1 4 2 3 3 3 5 1 2 ...\n",
                        " $ v10                    : int  3 5 3 5 4 4 3 5 2 3 ...\n",
                        " $ v11                    : int  4 3 4 3 4 4 4 5 1 4 ...\n",
                        " $ v12                    : int  4 1 4 1 3 4 3 4 4 4 ...\n",
                        " $ v13                    : int  5 4 4 4 3 4 5 5 1 3 ...\n",
                        " $ v14                    : int  5 1 5 2 3 1 2 4 2 2 ...\n",
                        " $ DepartureDelayinMinutes: int  25 1 0 11 0 0 9 4 0 0 ...\n",
                        " $ ArrivalDelayinMinutes  : int  18 6 0 9 0 0 23 0 0 0 ...\n",
                        " $ Satisfaction           : chr  \"neutral or dissatisfied\" \"neutral or dissatisfied\" \"satisfied\" \"neutral or dissatisfied\" ...\n"
                    ]
                }
            ],
            "source": [
                "# Structure of the data frame\n",
                "str(df)\n"
            ]
        },
        {
            "cell_type": "code",
            "execution_count": 30,
            "metadata": {
                "vscode": {
                    "languageId": "r"
                }
            },
            "outputs": [
                {
                    "name": "stdout",
                    "output_type": "stream",
                    "text": [
                        "                idCount                      id                  Gender \n",
                        "              \"integer\"               \"integer\"               \"integer\" \n",
                        "           CustomerType                     Age            TypeOfTravel \n",
                        "              \"integer\"               \"integer\"               \"integer\" \n",
                        "                  Class          FlightDistance                      v1 \n",
                        "              \"integer\"               \"integer\"               \"integer\" \n",
                        "                     v2                      v3                      v4 \n",
                        "              \"integer\"               \"integer\"               \"integer\" \n",
                        "                     v5                      v6                      v7 \n",
                        "              \"integer\"               \"integer\"               \"integer\" \n",
                        "                     v8                      v9                     v10 \n",
                        "              \"integer\"               \"integer\"               \"integer\" \n",
                        "                    v11                     v12                     v13 \n",
                        "              \"integer\"               \"integer\"               \"integer\" \n",
                        "                    v14 DepartureDelayinMinutes   ArrivalDelayinMinutes \n",
                        "              \"integer\"               \"integer\"               \"integer\" \n",
                        "           Satisfaction \n",
                        "            \"character\" \n"
                    ]
                }
            ],
            "source": [
                "print(sapply(df, class))\n"
            ]
        },
        {
            "cell_type": "code",
            "execution_count": 31,
            "metadata": {
                "vscode": {
                    "languageId": "r"
                }
            },
            "outputs": [
                {
                    "name": "stdout",
                    "output_type": "stream",
                    "text": [
                        "                idCount                      id                  Gender \n",
                        "              \"numeric\"               \"numeric\"               \"numeric\" \n",
                        "           CustomerType                     Age            TypeOfTravel \n",
                        "              \"numeric\"               \"numeric\"               \"numeric\" \n",
                        "                  Class          FlightDistance                      v1 \n",
                        "              \"numeric\"               \"numeric\"               \"numeric\" \n",
                        "                     v2                      v3                      v4 \n",
                        "              \"numeric\"               \"numeric\"               \"numeric\" \n",
                        "                     v5                      v6                      v7 \n",
                        "              \"numeric\"               \"numeric\"               \"numeric\" \n",
                        "                     v8                      v9                     v10 \n",
                        "              \"numeric\"               \"numeric\"               \"numeric\" \n",
                        "                    v11                     v12                     v13 \n",
                        "              \"numeric\"               \"numeric\"               \"numeric\" \n",
                        "                    v14 DepartureDelayinMinutes   ArrivalDelayinMinutes \n",
                        "              \"numeric\"               \"numeric\"               \"numeric\" \n",
                        "           Satisfaction \n",
                        "            \"character\" \n"
                    ]
                }
            ],
            "source": [
                "# To convert all integer columns to numeric columns\n",
                "\n",
                "df <- df %>% mutate_if(is.integer, as.numeric)\n",
                "\n",
                "print(sapply(df, class))\n"
            ]
        },
        {
            "cell_type": "code",
            "execution_count": 32,
            "metadata": {
                "vscode": {
                    "languageId": "r"
                }
            },
            "outputs": [
                {
                    "data": {
                        "text/html": [
                            "<style>\n",
                            ".list-inline {list-style: none; margin:0; padding: 0}\n",
                            ".list-inline>li {display: inline-block}\n",
                            ".list-inline>li:not(:last-child)::after {content: \"\\00b7\"; padding: 0 .5ex}\n",
                            "</style>\n",
                            "<ol class=list-inline><li>103904</li><li>25</li></ol>\n"
                        ],
                        "text/latex": [
                            "\\begin{enumerate*}\n",
                            "\\item 103904\n",
                            "\\item 25\n",
                            "\\end{enumerate*}\n"
                        ],
                        "text/markdown": [
                            "1. 103904\n",
                            "2. 25\n",
                            "\n",
                            "\n"
                        ],
                        "text/plain": [
                            "[1] 103904     25"
                        ]
                    },
                    "metadata": {},
                    "output_type": "display_data"
                }
            ],
            "source": [
                "dim(df)\n"
            ]
        },
        {
            "cell_type": "code",
            "execution_count": 33,
            "metadata": {
                "vscode": {
                    "languageId": "r"
                }
            },
            "outputs": [
                {
                    "name": "stdout",
                    "output_type": "stream",
                    "text": [
                        "'data.frame':\t103904 obs. of  25 variables:\n",
                        " $ idCount                : num  1 2 3 4 5 6 7 8 9 10 ...\n",
                        " $ id                     : num  70172 5047 110028 24026 119299 ...\n",
                        " $ Gender                 : num  0 0 1 1 0 1 0 1 1 0 ...\n",
                        " $ CustomerType           : num  1 0 1 1 1 1 1 1 1 0 ...\n",
                        " $ Age                    : num  13 25 26 25 61 26 47 52 41 20 ...\n",
                        " $ TypeOfTravel           : num  0 1 1 1 1 0 0 1 1 1 ...\n",
                        " $ Class                  : num  1 2 2 2 2 0 0 2 2 0 ...\n",
                        " $ FlightDistance         : num  460 235 1142 562 214 ...\n",
                        " $ v1                     : num  3 3 2 2 3 3 2 4 1 3 ...\n",
                        " $ v2                     : num  4 2 2 5 3 4 4 3 2 3 ...\n",
                        " $ v3                     : num  3 3 2 5 3 2 2 4 2 3 ...\n",
                        " $ v4                     : num  1 3 2 5 3 1 3 4 2 4 ...\n",
                        " $ v5                     : num  5 1 5 2 4 1 2 5 4 2 ...\n",
                        " $ v6                     : num  3 3 5 2 5 2 2 5 3 3 ...\n",
                        " $ v7                     : num  5 1 5 2 5 1 2 5 3 3 ...\n",
                        " $ v8                     : num  5 1 5 2 3 1 2 5 1 2 ...\n",
                        " $ v9                     : num  4 1 4 2 3 3 3 5 1 2 ...\n",
                        " $ v10                    : num  3 5 3 5 4 4 3 5 2 3 ...\n",
                        " $ v11                    : num  4 3 4 3 4 4 4 5 1 4 ...\n",
                        " $ v12                    : num  4 1 4 1 3 4 3 4 4 4 ...\n",
                        " $ v13                    : num  5 4 4 4 3 4 5 5 1 3 ...\n",
                        " $ v14                    : num  5 1 5 2 3 1 2 4 2 2 ...\n",
                        " $ DepartureDelayinMinutes: num  25 1 0 11 0 0 9 4 0 0 ...\n",
                        " $ ArrivalDelayinMinutes  : num  18 6 0 9 0 0 23 0 0 0 ...\n",
                        " $ Satisfaction           : chr  \"neutral or dissatisfied\" \"neutral or dissatisfied\" \"satisfied\" \"neutral or dissatisfied\" ...\n"
                    ]
                }
            ],
            "source": [
                "# Structure of the data frame\n",
                "str(df)\n"
            ]
        },
        {
            "cell_type": "code",
            "execution_count": 34,
            "metadata": {
                "vscode": {
                    "languageId": "r"
                }
            },
            "outputs": [
                {
                    "data": {
                        "text/html": [
                            "TRUE"
                        ],
                        "text/latex": [
                            "TRUE"
                        ],
                        "text/markdown": [
                            "TRUE"
                        ],
                        "text/plain": [
                            "[1] TRUE"
                        ]
                    },
                    "metadata": {},
                    "output_type": "display_data"
                }
            ],
            "source": [
                "# checking for any missing values in a dataframe\n",
                "any(is.na(df))\n"
            ]
        },
        {
            "cell_type": "code",
            "execution_count": 35,
            "metadata": {
                "vscode": {
                    "languageId": "r"
                }
            },
            "outputs": [
                {
                    "data": {
                        "text/html": [
                            "310"
                        ],
                        "text/latex": [
                            "310"
                        ],
                        "text/markdown": [
                            "310"
                        ],
                        "text/plain": [
                            "[1] 310"
                        ]
                    },
                    "metadata": {},
                    "output_type": "display_data"
                }
            ],
            "source": [
                "# Count of missing values\n",
                "sum(is.na(df))\n"
            ]
        },
        {
            "cell_type": "code",
            "execution_count": 36,
            "metadata": {
                "vscode": {
                    "languageId": "r"
                }
            },
            "outputs": [
                {
                    "data": {
                        "text/html": [
                            "<dl>\n",
                            "\t<dt>$idCount</dt>\n",
                            "\t\t<dd></dd>\n",
                            "\t<dt>$id</dt>\n",
                            "\t\t<dd></dd>\n",
                            "\t<dt>$Gender</dt>\n",
                            "\t\t<dd></dd>\n",
                            "\t<dt>$CustomerType</dt>\n",
                            "\t\t<dd></dd>\n",
                            "\t<dt>$Age</dt>\n",
                            "\t\t<dd></dd>\n",
                            "\t<dt>$TypeOfTravel</dt>\n",
                            "\t\t<dd></dd>\n",
                            "\t<dt>$Class</dt>\n",
                            "\t\t<dd></dd>\n",
                            "\t<dt>$FlightDistance</dt>\n",
                            "\t\t<dd></dd>\n",
                            "\t<dt>$v1</dt>\n",
                            "\t\t<dd></dd>\n",
                            "\t<dt>$v2</dt>\n",
                            "\t\t<dd></dd>\n",
                            "\t<dt>$v3</dt>\n",
                            "\t\t<dd></dd>\n",
                            "\t<dt>$v4</dt>\n",
                            "\t\t<dd></dd>\n",
                            "\t<dt>$v5</dt>\n",
                            "\t\t<dd></dd>\n",
                            "\t<dt>$v6</dt>\n",
                            "\t\t<dd></dd>\n",
                            "\t<dt>$v7</dt>\n",
                            "\t\t<dd></dd>\n",
                            "\t<dt>$v8</dt>\n",
                            "\t\t<dd></dd>\n",
                            "\t<dt>$v9</dt>\n",
                            "\t\t<dd></dd>\n",
                            "\t<dt>$v10</dt>\n",
                            "\t\t<dd></dd>\n",
                            "\t<dt>$v11</dt>\n",
                            "\t\t<dd></dd>\n",
                            "\t<dt>$v12</dt>\n",
                            "\t\t<dd></dd>\n",
                            "\t<dt>$v13</dt>\n",
                            "\t\t<dd></dd>\n",
                            "\t<dt>$v14</dt>\n",
                            "\t\t<dd></dd>\n",
                            "\t<dt>$DepartureDelayinMinutes</dt>\n",
                            "\t\t<dd></dd>\n",
                            "\t<dt>$ArrivalDelayinMinutes</dt>\n",
                            "\t\t<dd><style>\n",
                            ".list-inline {list-style: none; margin:0; padding: 0}\n",
                            ".list-inline>li {display: inline-block}\n",
                            ".list-inline>li:not(:last-child)::after {content: \"\\00b7\"; padding: 0 .5ex}\n",
                            "</style>\n",
                            "<ol class=list-inline><li>214</li><li>1125</li><li>1530</li><li>2005</li><li>2109</li><li>2486</li><li>2631</li><li>3622</li><li>4042</li><li>4491</li><li>4589</li><li>4689</li><li>4898</li><li>5296</li><li>5297</li><li>5497</li><li>6948</li><li>7226</li><li>8036</li><li>8422</li><li>8934</li><li>9061</li><li>9482</li><li>9532</li><li>9552</li><li>9941</li><li>10635</li><li>10881</li><li>12037</li><li>12690</li><li>12809</li><li>13502</li><li>14186</li><li>14302</li><li>15224</li><li>15372</li><li>15684</li><li>15861</li><li>16133</li><li>16330</li><li>16504</li><li>16882</li><li>17235</li><li>17809</li><li>18430</li><li>18621</li><li>18725</li><li>18797</li><li>18872</li><li>19499</li><li>19972</li><li>20050</li><li>20666</li><li>21454</li><li>21795</li><li>22203</li><li>22841</li><li>22940</li><li>22987</li><li>23034</li><li>23506</li><li>24181</li><li>26132</li><li>26311</li><li>26339</li><li>26606</li><li>26914</li><li>27136</li><li>27239</li><li>27262</li><li>27280</li><li>27619</li><li>27820</li><li>27905</li><li>27917</li><li>27993</li><li>28353</li><li>28495</li><li>28960</li><li>29487</li><li>29919</li><li>30505</li><li>30530</li><li>32198</li><li>32559</li><li>32865</li><li>32917</li><li>33057</li><li>33060</li><li>33272</li><li>33471</li><li>33871</li><li>33938</li><li>34141</li><li>34465</li><li>34678</li><li>34728</li><li>34838</li><li>34842</li><li>35249</li><li>35268</li><li>35272</li><li>35310</li><li>35341</li><li>35502</li><li>35893</li><li>35960</li><li>36065</li><li>36320</li><li>36536</li><li>37096</li><li>37576</li><li>37756</li><li>37892</li><li>38611</li><li>38678</li><li>39077</li><li>39292</li><li>39835</li><li>40100</li><li>40344</li><li>40423</li><li>40628</li><li>41080</li><li>41294</li><li>41981</li><li>42301</li><li>42439</li><li>43052</li><li>43247</li><li>43816</li><li>43830</li><li>44058</li><li>44095</li><li>44231</li><li>44327</li><li>45065</li><li>45082</li><li>45246</li><li>45308</li><li>45871</li><li>46088</li><li>46296</li><li>46564</li><li>46759</li><li>46817</li><li>46944</li><li>47062</li><li>47111</li><li>47369</li><li>47627</li><li>47637</li><li>47809</li><li>48517</li><li>48641</li><li>49755</li><li>50585</li><li>50978</li><li>51881</li><li>52127</li><li>52240</li><li>52569</li><li>52677</li><li>52879</li><li>53402</li><li>54019</li><li>54415</li><li>54938</li><li>55134</li><li>55368</li><li>55430</li><li>56040</li><li>56126</li><li>56150</li><li>56714</li><li>58176</li><li>58678</li><li>58792</li><li>59472</li><li>59680</li><li>60016</li><li>60368</li><li>60416</li><li>60434</li><li>61345</li><li>62433</li><li>62505</li><li>62607</li><li>62970</li><li>63377</li><li>63383</li><li>63707</li><li>63778</li><li>63899</li><li>64798</li><li>66423</li><li>66429</li><li>66829</li><li>66939</li><li>67343</li><li>67714</li><li>67844</li><li>67997</li><li>68113</li><li>68399</li><li>68617</li><li>68712</li><li>68914</li><li>69041</li><li>69393</li><li>69608</li><li>70168</li><li>70259</li><li>70295</li><li>70649</li><li>70939</li><li>70941</li><li>71051</li><li>71231</li><li>71558</li><li>73170</li><li>74690</li><li>75046</li><li>75335</li><li>76292</li><li>76372</li><li>76867</li><li>76956</li><li>77122</li><li>77283</li><li>78117</li><li>78236</li><li>78238</li><li>78700</li><li>78729</li><li>78930</li><li>78965</li><li>79014</li><li>80968</li><li>81063</li><li>81076</li><li>81109</li><li>81347</li><li>81455</li><li>82626</li><li>83396</li><li>83759</li><li>83881</li><li>84040</li><li>84486</li><li>84638</li><li>84711</li><li>84820</li><li>85649</li><li>85690</li><li>85739</li><li>85758</li><li>85808</li><li>85888</li><li>85950</li><li>86117</li><li>86469</li><li>86476</li><li>86907</li><li>87017</li><li>87031</li><li>87262</li><li>87907</li><li>88554</li><li>88854</li><li>89063</li><li>90444</li><li>90749</li><li>91580</li><li>91679</li><li>91901</li><li>92052</li><li>92779</li><li>93141</li><li>93188</li><li>93271</li><li>93328</li><li>93396</li><li>93875</li><li>94281</li><li>94625</li><li>94725</li><li>94760</li><li>95563</li><li>96094</li><li>96356</li><li>96947</li><li>97244</li><li>97394</li><li>97823</li><li>97916</li><li>98447</li><li>98637</li><li>98947</li><li>99815</li><li>100427</li><li>100683</li><li>100963</li><li>101243</li><li>101533</li><li>102068</li><li>102385</li><li>102553</li><li>102961</li><li>103541</li></ol>\n",
                            "</dd>\n",
                            "\t<dt>$Satisfaction</dt>\n",
                            "\t\t<dd></dd>\n",
                            "</dl>\n"
                        ],
                        "text/latex": [
                            "\\begin{description}\n",
                            "\\item[\\$idCount] \n",
                            "\\item[\\$id] \n",
                            "\\item[\\$Gender] \n",
                            "\\item[\\$CustomerType] \n",
                            "\\item[\\$Age] \n",
                            "\\item[\\$TypeOfTravel] \n",
                            "\\item[\\$Class] \n",
                            "\\item[\\$FlightDistance] \n",
                            "\\item[\\$v1] \n",
                            "\\item[\\$v2] \n",
                            "\\item[\\$v3] \n",
                            "\\item[\\$v4] \n",
                            "\\item[\\$v5] \n",
                            "\\item[\\$v6] \n",
                            "\\item[\\$v7] \n",
                            "\\item[\\$v8] \n",
                            "\\item[\\$v9] \n",
                            "\\item[\\$v10] \n",
                            "\\item[\\$v11] \n",
                            "\\item[\\$v12] \n",
                            "\\item[\\$v13] \n",
                            "\\item[\\$v14] \n",
                            "\\item[\\$DepartureDelayinMinutes] \n",
                            "\\item[\\$ArrivalDelayinMinutes] \\begin{enumerate*}\n",
                            "\\item 214\n",
                            "\\item 1125\n",
                            "\\item 1530\n",
                            "\\item 2005\n",
                            "\\item 2109\n",
                            "\\item 2486\n",
                            "\\item 2631\n",
                            "\\item 3622\n",
                            "\\item 4042\n",
                            "\\item 4491\n",
                            "\\item 4589\n",
                            "\\item 4689\n",
                            "\\item 4898\n",
                            "\\item 5296\n",
                            "\\item 5297\n",
                            "\\item 5497\n",
                            "\\item 6948\n",
                            "\\item 7226\n",
                            "\\item 8036\n",
                            "\\item 8422\n",
                            "\\item 8934\n",
                            "\\item 9061\n",
                            "\\item 9482\n",
                            "\\item 9532\n",
                            "\\item 9552\n",
                            "\\item 9941\n",
                            "\\item 10635\n",
                            "\\item 10881\n",
                            "\\item 12037\n",
                            "\\item 12690\n",
                            "\\item 12809\n",
                            "\\item 13502\n",
                            "\\item 14186\n",
                            "\\item 14302\n",
                            "\\item 15224\n",
                            "\\item 15372\n",
                            "\\item 15684\n",
                            "\\item 15861\n",
                            "\\item 16133\n",
                            "\\item 16330\n",
                            "\\item 16504\n",
                            "\\item 16882\n",
                            "\\item 17235\n",
                            "\\item 17809\n",
                            "\\item 18430\n",
                            "\\item 18621\n",
                            "\\item 18725\n",
                            "\\item 18797\n",
                            "\\item 18872\n",
                            "\\item 19499\n",
                            "\\item 19972\n",
                            "\\item 20050\n",
                            "\\item 20666\n",
                            "\\item 21454\n",
                            "\\item 21795\n",
                            "\\item 22203\n",
                            "\\item 22841\n",
                            "\\item 22940\n",
                            "\\item 22987\n",
                            "\\item 23034\n",
                            "\\item 23506\n",
                            "\\item 24181\n",
                            "\\item 26132\n",
                            "\\item 26311\n",
                            "\\item 26339\n",
                            "\\item 26606\n",
                            "\\item 26914\n",
                            "\\item 27136\n",
                            "\\item 27239\n",
                            "\\item 27262\n",
                            "\\item 27280\n",
                            "\\item 27619\n",
                            "\\item 27820\n",
                            "\\item 27905\n",
                            "\\item 27917\n",
                            "\\item 27993\n",
                            "\\item 28353\n",
                            "\\item 28495\n",
                            "\\item 28960\n",
                            "\\item 29487\n",
                            "\\item 29919\n",
                            "\\item 30505\n",
                            "\\item 30530\n",
                            "\\item 32198\n",
                            "\\item 32559\n",
                            "\\item 32865\n",
                            "\\item 32917\n",
                            "\\item 33057\n",
                            "\\item 33060\n",
                            "\\item 33272\n",
                            "\\item 33471\n",
                            "\\item 33871\n",
                            "\\item 33938\n",
                            "\\item 34141\n",
                            "\\item 34465\n",
                            "\\item 34678\n",
                            "\\item 34728\n",
                            "\\item 34838\n",
                            "\\item 34842\n",
                            "\\item 35249\n",
                            "\\item 35268\n",
                            "\\item 35272\n",
                            "\\item 35310\n",
                            "\\item 35341\n",
                            "\\item 35502\n",
                            "\\item 35893\n",
                            "\\item 35960\n",
                            "\\item 36065\n",
                            "\\item 36320\n",
                            "\\item 36536\n",
                            "\\item 37096\n",
                            "\\item 37576\n",
                            "\\item 37756\n",
                            "\\item 37892\n",
                            "\\item 38611\n",
                            "\\item 38678\n",
                            "\\item 39077\n",
                            "\\item 39292\n",
                            "\\item 39835\n",
                            "\\item 40100\n",
                            "\\item 40344\n",
                            "\\item 40423\n",
                            "\\item 40628\n",
                            "\\item 41080\n",
                            "\\item 41294\n",
                            "\\item 41981\n",
                            "\\item 42301\n",
                            "\\item 42439\n",
                            "\\item 43052\n",
                            "\\item 43247\n",
                            "\\item 43816\n",
                            "\\item 43830\n",
                            "\\item 44058\n",
                            "\\item 44095\n",
                            "\\item 44231\n",
                            "\\item 44327\n",
                            "\\item 45065\n",
                            "\\item 45082\n",
                            "\\item 45246\n",
                            "\\item 45308\n",
                            "\\item 45871\n",
                            "\\item 46088\n",
                            "\\item 46296\n",
                            "\\item 46564\n",
                            "\\item 46759\n",
                            "\\item 46817\n",
                            "\\item 46944\n",
                            "\\item 47062\n",
                            "\\item 47111\n",
                            "\\item 47369\n",
                            "\\item 47627\n",
                            "\\item 47637\n",
                            "\\item 47809\n",
                            "\\item 48517\n",
                            "\\item 48641\n",
                            "\\item 49755\n",
                            "\\item 50585\n",
                            "\\item 50978\n",
                            "\\item 51881\n",
                            "\\item 52127\n",
                            "\\item 52240\n",
                            "\\item 52569\n",
                            "\\item 52677\n",
                            "\\item 52879\n",
                            "\\item 53402\n",
                            "\\item 54019\n",
                            "\\item 54415\n",
                            "\\item 54938\n",
                            "\\item 55134\n",
                            "\\item 55368\n",
                            "\\item 55430\n",
                            "\\item 56040\n",
                            "\\item 56126\n",
                            "\\item 56150\n",
                            "\\item 56714\n",
                            "\\item 58176\n",
                            "\\item 58678\n",
                            "\\item 58792\n",
                            "\\item 59472\n",
                            "\\item 59680\n",
                            "\\item 60016\n",
                            "\\item 60368\n",
                            "\\item 60416\n",
                            "\\item 60434\n",
                            "\\item 61345\n",
                            "\\item 62433\n",
                            "\\item 62505\n",
                            "\\item 62607\n",
                            "\\item 62970\n",
                            "\\item 63377\n",
                            "\\item 63383\n",
                            "\\item 63707\n",
                            "\\item 63778\n",
                            "\\item 63899\n",
                            "\\item 64798\n",
                            "\\item 66423\n",
                            "\\item 66429\n",
                            "\\item 66829\n",
                            "\\item 66939\n",
                            "\\item 67343\n",
                            "\\item 67714\n",
                            "\\item 67844\n",
                            "\\item 67997\n",
                            "\\item 68113\n",
                            "\\item 68399\n",
                            "\\item 68617\n",
                            "\\item 68712\n",
                            "\\item 68914\n",
                            "\\item 69041\n",
                            "\\item 69393\n",
                            "\\item 69608\n",
                            "\\item 70168\n",
                            "\\item 70259\n",
                            "\\item 70295\n",
                            "\\item 70649\n",
                            "\\item 70939\n",
                            "\\item 70941\n",
                            "\\item 71051\n",
                            "\\item 71231\n",
                            "\\item 71558\n",
                            "\\item 73170\n",
                            "\\item 74690\n",
                            "\\item 75046\n",
                            "\\item 75335\n",
                            "\\item 76292\n",
                            "\\item 76372\n",
                            "\\item 76867\n",
                            "\\item 76956\n",
                            "\\item 77122\n",
                            "\\item 77283\n",
                            "\\item 78117\n",
                            "\\item 78236\n",
                            "\\item 78238\n",
                            "\\item 78700\n",
                            "\\item 78729\n",
                            "\\item 78930\n",
                            "\\item 78965\n",
                            "\\item 79014\n",
                            "\\item 80968\n",
                            "\\item 81063\n",
                            "\\item 81076\n",
                            "\\item 81109\n",
                            "\\item 81347\n",
                            "\\item 81455\n",
                            "\\item 82626\n",
                            "\\item 83396\n",
                            "\\item 83759\n",
                            "\\item 83881\n",
                            "\\item 84040\n",
                            "\\item 84486\n",
                            "\\item 84638\n",
                            "\\item 84711\n",
                            "\\item 84820\n",
                            "\\item 85649\n",
                            "\\item 85690\n",
                            "\\item 85739\n",
                            "\\item 85758\n",
                            "\\item 85808\n",
                            "\\item 85888\n",
                            "\\item 85950\n",
                            "\\item 86117\n",
                            "\\item 86469\n",
                            "\\item 86476\n",
                            "\\item 86907\n",
                            "\\item 87017\n",
                            "\\item 87031\n",
                            "\\item 87262\n",
                            "\\item 87907\n",
                            "\\item 88554\n",
                            "\\item 88854\n",
                            "\\item 89063\n",
                            "\\item 90444\n",
                            "\\item 90749\n",
                            "\\item 91580\n",
                            "\\item 91679\n",
                            "\\item 91901\n",
                            "\\item 92052\n",
                            "\\item 92779\n",
                            "\\item 93141\n",
                            "\\item 93188\n",
                            "\\item 93271\n",
                            "\\item 93328\n",
                            "\\item 93396\n",
                            "\\item 93875\n",
                            "\\item 94281\n",
                            "\\item 94625\n",
                            "\\item 94725\n",
                            "\\item 94760\n",
                            "\\item 95563\n",
                            "\\item 96094\n",
                            "\\item 96356\n",
                            "\\item 96947\n",
                            "\\item 97244\n",
                            "\\item 97394\n",
                            "\\item 97823\n",
                            "\\item 97916\n",
                            "\\item 98447\n",
                            "\\item 98637\n",
                            "\\item 98947\n",
                            "\\item 99815\n",
                            "\\item 100427\n",
                            "\\item 100683\n",
                            "\\item 100963\n",
                            "\\item 101243\n",
                            "\\item 101533\n",
                            "\\item 102068\n",
                            "\\item 102385\n",
                            "\\item 102553\n",
                            "\\item 102961\n",
                            "\\item 103541\n",
                            "\\end{enumerate*}\n",
                            "\n",
                            "\\item[\\$Satisfaction] \n",
                            "\\end{description}\n"
                        ],
                        "text/markdown": [
                            "$idCount\n",
                            ":   \n",
                            "$id\n",
                            ":   \n",
                            "$Gender\n",
                            ":   \n",
                            "$CustomerType\n",
                            ":   \n",
                            "$Age\n",
                            ":   \n",
                            "$TypeOfTravel\n",
                            ":   \n",
                            "$Class\n",
                            ":   \n",
                            "$FlightDistance\n",
                            ":   \n",
                            "$v1\n",
                            ":   \n",
                            "$v2\n",
                            ":   \n",
                            "$v3\n",
                            ":   \n",
                            "$v4\n",
                            ":   \n",
                            "$v5\n",
                            ":   \n",
                            "$v6\n",
                            ":   \n",
                            "$v7\n",
                            ":   \n",
                            "$v8\n",
                            ":   \n",
                            "$v9\n",
                            ":   \n",
                            "$v10\n",
                            ":   \n",
                            "$v11\n",
                            ":   \n",
                            "$v12\n",
                            ":   \n",
                            "$v13\n",
                            ":   \n",
                            "$v14\n",
                            ":   \n",
                            "$DepartureDelayinMinutes\n",
                            ":   \n",
                            "$ArrivalDelayinMinutes\n",
                            ":   1. 214\n",
                            "2. 1125\n",
                            "3. 1530\n",
                            "4. 2005\n",
                            "5. 2109\n",
                            "6. 2486\n",
                            "7. 2631\n",
                            "8. 3622\n",
                            "9. 4042\n",
                            "10. 4491\n",
                            "11. 4589\n",
                            "12. 4689\n",
                            "13. 4898\n",
                            "14. 5296\n",
                            "15. 5297\n",
                            "16. 5497\n",
                            "17. 6948\n",
                            "18. 7226\n",
                            "19. 8036\n",
                            "20. 8422\n",
                            "21. 8934\n",
                            "22. 9061\n",
                            "23. 9482\n",
                            "24. 9532\n",
                            "25. 9552\n",
                            "26. 9941\n",
                            "27. 10635\n",
                            "28. 10881\n",
                            "29. 12037\n",
                            "30. 12690\n",
                            "31. 12809\n",
                            "32. 13502\n",
                            "33. 14186\n",
                            "34. 14302\n",
                            "35. 15224\n",
                            "36. 15372\n",
                            "37. 15684\n",
                            "38. 15861\n",
                            "39. 16133\n",
                            "40. 16330\n",
                            "41. 16504\n",
                            "42. 16882\n",
                            "43. 17235\n",
                            "44. 17809\n",
                            "45. 18430\n",
                            "46. 18621\n",
                            "47. 18725\n",
                            "48. 18797\n",
                            "49. 18872\n",
                            "50. 19499\n",
                            "51. 19972\n",
                            "52. 20050\n",
                            "53. 20666\n",
                            "54. 21454\n",
                            "55. 21795\n",
                            "56. 22203\n",
                            "57. 22841\n",
                            "58. 22940\n",
                            "59. 22987\n",
                            "60. 23034\n",
                            "61. 23506\n",
                            "62. 24181\n",
                            "63. 26132\n",
                            "64. 26311\n",
                            "65. 26339\n",
                            "66. 26606\n",
                            "67. 26914\n",
                            "68. 27136\n",
                            "69. 27239\n",
                            "70. 27262\n",
                            "71. 27280\n",
                            "72. 27619\n",
                            "73. 27820\n",
                            "74. 27905\n",
                            "75. 27917\n",
                            "76. 27993\n",
                            "77. 28353\n",
                            "78. 28495\n",
                            "79. 28960\n",
                            "80. 29487\n",
                            "81. 29919\n",
                            "82. 30505\n",
                            "83. 30530\n",
                            "84. 32198\n",
                            "85. 32559\n",
                            "86. 32865\n",
                            "87. 32917\n",
                            "88. 33057\n",
                            "89. 33060\n",
                            "90. 33272\n",
                            "91. 33471\n",
                            "92. 33871\n",
                            "93. 33938\n",
                            "94. 34141\n",
                            "95. 34465\n",
                            "96. 34678\n",
                            "97. 34728\n",
                            "98. 34838\n",
                            "99. 34842\n",
                            "100. 35249\n",
                            "101. 35268\n",
                            "102. 35272\n",
                            "103. 35310\n",
                            "104. 35341\n",
                            "105. 35502\n",
                            "106. 35893\n",
                            "107. 35960\n",
                            "108. 36065\n",
                            "109. 36320\n",
                            "110. 36536\n",
                            "111. 37096\n",
                            "112. 37576\n",
                            "113. 37756\n",
                            "114. 37892\n",
                            "115. 38611\n",
                            "116. 38678\n",
                            "117. 39077\n",
                            "118. 39292\n",
                            "119. 39835\n",
                            "120. 40100\n",
                            "121. 40344\n",
                            "122. 40423\n",
                            "123. 40628\n",
                            "124. 41080\n",
                            "125. 41294\n",
                            "126. 41981\n",
                            "127. 42301\n",
                            "128. 42439\n",
                            "129. 43052\n",
                            "130. 43247\n",
                            "131. 43816\n",
                            "132. 43830\n",
                            "133. 44058\n",
                            "134. 44095\n",
                            "135. 44231\n",
                            "136. 44327\n",
                            "137. 45065\n",
                            "138. 45082\n",
                            "139. 45246\n",
                            "140. 45308\n",
                            "141. 45871\n",
                            "142. 46088\n",
                            "143. 46296\n",
                            "144. 46564\n",
                            "145. 46759\n",
                            "146. 46817\n",
                            "147. 46944\n",
                            "148. 47062\n",
                            "149. 47111\n",
                            "150. 47369\n",
                            "151. 47627\n",
                            "152. 47637\n",
                            "153. 47809\n",
                            "154. 48517\n",
                            "155. 48641\n",
                            "156. 49755\n",
                            "157. 50585\n",
                            "158. 50978\n",
                            "159. 51881\n",
                            "160. 52127\n",
                            "161. 52240\n",
                            "162. 52569\n",
                            "163. 52677\n",
                            "164. 52879\n",
                            "165. 53402\n",
                            "166. 54019\n",
                            "167. 54415\n",
                            "168. 54938\n",
                            "169. 55134\n",
                            "170. 55368\n",
                            "171. 55430\n",
                            "172. 56040\n",
                            "173. 56126\n",
                            "174. 56150\n",
                            "175. 56714\n",
                            "176. 58176\n",
                            "177. 58678\n",
                            "178. 58792\n",
                            "179. 59472\n",
                            "180. 59680\n",
                            "181. 60016\n",
                            "182. 60368\n",
                            "183. 60416\n",
                            "184. 60434\n",
                            "185. 61345\n",
                            "186. 62433\n",
                            "187. 62505\n",
                            "188. 62607\n",
                            "189. 62970\n",
                            "190. 63377\n",
                            "191. 63383\n",
                            "192. 63707\n",
                            "193. 63778\n",
                            "194. 63899\n",
                            "195. 64798\n",
                            "196. 66423\n",
                            "197. 66429\n",
                            "198. 66829\n",
                            "199. 66939\n",
                            "200. 67343\n",
                            "201. 67714\n",
                            "202. 67844\n",
                            "203. 67997\n",
                            "204. 68113\n",
                            "205. 68399\n",
                            "206. 68617\n",
                            "207. 68712\n",
                            "208. 68914\n",
                            "209. 69041\n",
                            "210. 69393\n",
                            "211. 69608\n",
                            "212. 70168\n",
                            "213. 70259\n",
                            "214. 70295\n",
                            "215. 70649\n",
                            "216. 70939\n",
                            "217. 70941\n",
                            "218. 71051\n",
                            "219. 71231\n",
                            "220. 71558\n",
                            "221. 73170\n",
                            "222. 74690\n",
                            "223. 75046\n",
                            "224. 75335\n",
                            "225. 76292\n",
                            "226. 76372\n",
                            "227. 76867\n",
                            "228. 76956\n",
                            "229. 77122\n",
                            "230. 77283\n",
                            "231. 78117\n",
                            "232. 78236\n",
                            "233. 78238\n",
                            "234. 78700\n",
                            "235. 78729\n",
                            "236. 78930\n",
                            "237. 78965\n",
                            "238. 79014\n",
                            "239. 80968\n",
                            "240. 81063\n",
                            "241. 81076\n",
                            "242. 81109\n",
                            "243. 81347\n",
                            "244. 81455\n",
                            "245. 82626\n",
                            "246. 83396\n",
                            "247. 83759\n",
                            "248. 83881\n",
                            "249. 84040\n",
                            "250. 84486\n",
                            "251. 84638\n",
                            "252. 84711\n",
                            "253. 84820\n",
                            "254. 85649\n",
                            "255. 85690\n",
                            "256. 85739\n",
                            "257. 85758\n",
                            "258. 85808\n",
                            "259. 85888\n",
                            "260. 85950\n",
                            "261. 86117\n",
                            "262. 86469\n",
                            "263. 86476\n",
                            "264. 86907\n",
                            "265. 87017\n",
                            "266. 87031\n",
                            "267. 87262\n",
                            "268. 87907\n",
                            "269. 88554\n",
                            "270. 88854\n",
                            "271. 89063\n",
                            "272. 90444\n",
                            "273. 90749\n",
                            "274. 91580\n",
                            "275. 91679\n",
                            "276. 91901\n",
                            "277. 92052\n",
                            "278. 92779\n",
                            "279. 93141\n",
                            "280. 93188\n",
                            "281. 93271\n",
                            "282. 93328\n",
                            "283. 93396\n",
                            "284. 93875\n",
                            "285. 94281\n",
                            "286. 94625\n",
                            "287. 94725\n",
                            "288. 94760\n",
                            "289. 95563\n",
                            "290. 96094\n",
                            "291. 96356\n",
                            "292. 96947\n",
                            "293. 97244\n",
                            "294. 97394\n",
                            "295. 97823\n",
                            "296. 97916\n",
                            "297. 98447\n",
                            "298. 98637\n",
                            "299. 98947\n",
                            "300. 99815\n",
                            "301. 100427\n",
                            "302. 100683\n",
                            "303. 100963\n",
                            "304. 101243\n",
                            "305. 101533\n",
                            "306. 102068\n",
                            "307. 102385\n",
                            "308. 102553\n",
                            "309. 102961\n",
                            "310. 103541\n",
                            "\n",
                            "\n",
                            "\n",
                            "$Satisfaction\n",
                            ":   \n",
                            "\n",
                            "\n"
                        ],
                        "text/plain": [
                            "$idCount\n",
                            "integer(0)\n",
                            "\n",
                            "$id\n",
                            "integer(0)\n",
                            "\n",
                            "$Gender\n",
                            "integer(0)\n",
                            "\n",
                            "$CustomerType\n",
                            "integer(0)\n",
                            "\n",
                            "$Age\n",
                            "integer(0)\n",
                            "\n",
                            "$TypeOfTravel\n",
                            "integer(0)\n",
                            "\n",
                            "$Class\n",
                            "integer(0)\n",
                            "\n",
                            "$FlightDistance\n",
                            "integer(0)\n",
                            "\n",
                            "$v1\n",
                            "integer(0)\n",
                            "\n",
                            "$v2\n",
                            "integer(0)\n",
                            "\n",
                            "$v3\n",
                            "integer(0)\n",
                            "\n",
                            "$v4\n",
                            "integer(0)\n",
                            "\n",
                            "$v5\n",
                            "integer(0)\n",
                            "\n",
                            "$v6\n",
                            "integer(0)\n",
                            "\n",
                            "$v7\n",
                            "integer(0)\n",
                            "\n",
                            "$v8\n",
                            "integer(0)\n",
                            "\n",
                            "$v9\n",
                            "integer(0)\n",
                            "\n",
                            "$v10\n",
                            "integer(0)\n",
                            "\n",
                            "$v11\n",
                            "integer(0)\n",
                            "\n",
                            "$v12\n",
                            "integer(0)\n",
                            "\n",
                            "$v13\n",
                            "integer(0)\n",
                            "\n",
                            "$v14\n",
                            "integer(0)\n",
                            "\n",
                            "$DepartureDelayinMinutes\n",
                            "integer(0)\n",
                            "\n",
                            "$ArrivalDelayinMinutes\n",
                            "  [1]    214   1125   1530   2005   2109   2486   2631   3622   4042   4491\n",
                            " [11]   4589   4689   4898   5296   5297   5497   6948   7226   8036   8422\n",
                            " [21]   8934   9061   9482   9532   9552   9941  10635  10881  12037  12690\n",
                            " [31]  12809  13502  14186  14302  15224  15372  15684  15861  16133  16330\n",
                            " [41]  16504  16882  17235  17809  18430  18621  18725  18797  18872  19499\n",
                            " [51]  19972  20050  20666  21454  21795  22203  22841  22940  22987  23034\n",
                            " [61]  23506  24181  26132  26311  26339  26606  26914  27136  27239  27262\n",
                            " [71]  27280  27619  27820  27905  27917  27993  28353  28495  28960  29487\n",
                            " [81]  29919  30505  30530  32198  32559  32865  32917  33057  33060  33272\n",
                            " [91]  33471  33871  33938  34141  34465  34678  34728  34838  34842  35249\n",
                            "[101]  35268  35272  35310  35341  35502  35893  35960  36065  36320  36536\n",
                            "[111]  37096  37576  37756  37892  38611  38678  39077  39292  39835  40100\n",
                            "[121]  40344  40423  40628  41080  41294  41981  42301  42439  43052  43247\n",
                            "[131]  43816  43830  44058  44095  44231  44327  45065  45082  45246  45308\n",
                            "[141]  45871  46088  46296  46564  46759  46817  46944  47062  47111  47369\n",
                            "[151]  47627  47637  47809  48517  48641  49755  50585  50978  51881  52127\n",
                            "[161]  52240  52569  52677  52879  53402  54019  54415  54938  55134  55368\n",
                            "[171]  55430  56040  56126  56150  56714  58176  58678  58792  59472  59680\n",
                            "[181]  60016  60368  60416  60434  61345  62433  62505  62607  62970  63377\n",
                            "[191]  63383  63707  63778  63899  64798  66423  66429  66829  66939  67343\n",
                            "[201]  67714  67844  67997  68113  68399  68617  68712  68914  69041  69393\n",
                            "[211]  69608  70168  70259  70295  70649  70939  70941  71051  71231  71558\n",
                            "[221]  73170  74690  75046  75335  76292  76372  76867  76956  77122  77283\n",
                            "[231]  78117  78236  78238  78700  78729  78930  78965  79014  80968  81063\n",
                            "[241]  81076  81109  81347  81455  82626  83396  83759  83881  84040  84486\n",
                            "[251]  84638  84711  84820  85649  85690  85739  85758  85808  85888  85950\n",
                            "[261]  86117  86469  86476  86907  87017  87031  87262  87907  88554  88854\n",
                            "[271]  89063  90444  90749  91580  91679  91901  92052  92779  93141  93188\n",
                            "[281]  93271  93328  93396  93875  94281  94625  94725  94760  95563  96094\n",
                            "[291]  96356  96947  97244  97394  97823  97916  98447  98637  98947  99815\n",
                            "[301] 100427 100683 100963 101243 101533 102068 102385 102553 102961 103541\n",
                            "\n",
                            "$Satisfaction\n",
                            "integer(0)\n"
                        ]
                    },
                    "metadata": {},
                    "output_type": "display_data"
                }
            ],
            "source": [
                "# Position of missing values by column\n",
                "sapply(df, function(x) which(is.na(x)))\n"
            ]
        },
        {
            "cell_type": "code",
            "execution_count": 37,
            "metadata": {
                "vscode": {
                    "languageId": "r"
                }
            },
            "outputs": [
                {
                    "data": {
                        "text/html": [
                            "FALSE"
                        ],
                        "text/latex": [
                            "FALSE"
                        ],
                        "text/markdown": [
                            "FALSE"
                        ],
                        "text/plain": [
                            "[1] FALSE"
                        ]
                    },
                    "metadata": {},
                    "output_type": "display_data"
                }
            ],
            "source": [
                "df$ArrivalDelayinMinutes[is.na(df$ArrivalDelayinMinutes)] <- 0\n",
                "\n",
                "any(is.na(df))\n"
            ]
        },
        {
            "cell_type": "code",
            "execution_count": 38,
            "metadata": {
                "vscode": {
                    "languageId": "r"
                }
            },
            "outputs": [
                {
                    "data": {
                        "text/plain": [
                            "    idCount             id             Gender        CustomerType   \n",
                            " Min.   :     1   Min.   :     1   Min.   :0.0000   Min.   :0.0000  \n",
                            " 1st Qu.: 25977   1st Qu.: 32534   1st Qu.:0.0000   1st Qu.:1.0000  \n",
                            " Median : 51953   Median : 64857   Median :1.0000   Median :1.0000  \n",
                            " Mean   : 51953   Mean   : 64924   Mean   :0.5075   Mean   :0.8173  \n",
                            " 3rd Qu.: 77928   3rd Qu.: 97368   3rd Qu.:1.0000   3rd Qu.:1.0000  \n",
                            " Max.   :103904   Max.   :129880   Max.   :1.0000   Max.   :1.0000  \n",
                            "      Age         TypeOfTravel        Class       FlightDistance       v1      \n",
                            " Min.   : 7.00   Min.   :0.0000   Min.   :0.000   Min.   :  31   Min.   :0.00  \n",
                            " 1st Qu.:27.00   1st Qu.:0.0000   1st Qu.:0.000   1st Qu.: 414   1st Qu.:2.00  \n",
                            " Median :40.00   Median :1.0000   Median :1.000   Median : 843   Median :3.00  \n",
                            " Mean   :39.38   Mean   :0.6896   Mean   :1.028   Mean   :1189   Mean   :2.73  \n",
                            " 3rd Qu.:51.00   3rd Qu.:1.0000   3rd Qu.:2.000   3rd Qu.:1743   3rd Qu.:4.00  \n",
                            " Max.   :85.00   Max.   :1.0000   Max.   :2.000   Max.   :4983   Max.   :5.00  \n",
                            "       v2             v3              v4              v5              v6      \n",
                            " Min.   :0.00   Min.   :0.000   Min.   :0.000   Min.   :0.000   Min.   :0.00  \n",
                            " 1st Qu.:2.00   1st Qu.:2.000   1st Qu.:2.000   1st Qu.:2.000   1st Qu.:2.00  \n",
                            " Median :3.00   Median :3.000   Median :3.000   Median :3.000   Median :3.00  \n",
                            " Mean   :3.06   Mean   :2.757   Mean   :2.977   Mean   :3.202   Mean   :3.25  \n",
                            " 3rd Qu.:4.00   3rd Qu.:4.000   3rd Qu.:4.000   3rd Qu.:4.000   3rd Qu.:4.00  \n",
                            " Max.   :5.00   Max.   :5.000   Max.   :5.000   Max.   :5.000   Max.   :5.00  \n",
                            "       v7              v8              v9             v10       \n",
                            " Min.   :0.000   Min.   :0.000   Min.   :0.000   Min.   :0.000  \n",
                            " 1st Qu.:2.000   1st Qu.:2.000   1st Qu.:2.000   1st Qu.:2.000  \n",
                            " Median :4.000   Median :4.000   Median :4.000   Median :4.000  \n",
                            " Mean   :3.439   Mean   :3.358   Mean   :3.382   Mean   :3.351  \n",
                            " 3rd Qu.:5.000   3rd Qu.:4.000   3rd Qu.:4.000   3rd Qu.:4.000  \n",
                            " Max.   :5.000   Max.   :5.000   Max.   :5.000   Max.   :5.000  \n",
                            "      v11             v12             v13            v14       \n",
                            " Min.   :1.000   Min.   :0.000   Min.   :0.00   Min.   :0.000  \n",
                            " 1st Qu.:3.000   1st Qu.:3.000   1st Qu.:3.00   1st Qu.:2.000  \n",
                            " Median :4.000   Median :3.000   Median :4.00   Median :3.000  \n",
                            " Mean   :3.632   Mean   :3.304   Mean   :3.64   Mean   :3.286  \n",
                            " 3rd Qu.:5.000   3rd Qu.:4.000   3rd Qu.:5.00   3rd Qu.:4.000  \n",
                            " Max.   :5.000   Max.   :5.000   Max.   :5.00   Max.   :5.000  \n",
                            " DepartureDelayinMinutes ArrivalDelayinMinutes Satisfaction      \n",
                            " Min.   :   0.00         Min.   :   0.00       Length:103904     \n",
                            " 1st Qu.:   0.00         1st Qu.:   0.00       Class :character  \n",
                            " Median :   0.00         Median :   0.00       Mode  :character  \n",
                            " Mean   :  14.82         Mean   :  15.13                         \n",
                            " 3rd Qu.:  12.00         3rd Qu.:  13.00                         \n",
                            " Max.   :1592.00         Max.   :1584.00                         "
                        ]
                    },
                    "metadata": {},
                    "output_type": "display_data"
                }
            ],
            "source": [
                "# Statistical summary\n",
                "summary(df)\n"
            ]
        },
        {
            "cell_type": "markdown",
            "metadata": {},
            "source": [
                "<a id='cormatrix'></a>\n",
                "\n",
                "# Correlation Matrix\n",
                "\n",
                "Correlation matrix is a table showing correlation coefficients between variables.\n",
                "Correlation coefficient is a statistical measure of the strength of a linear relationship between two variables.\n"
            ]
        },
        {
            "cell_type": "code",
            "execution_count": 39,
            "metadata": {
                "vscode": {
                    "languageId": "r"
                }
            },
            "outputs": [],
            "source": [
                "data_01 <- df %>%\n",
                "  as.data.frame() %>%\n",
                "  dplyr::select(09:22)\n",
                "\n",
                "data_cor <- data_01 %>%\n",
                "  as.matrix() %>%\n",
                "  cor()\n"
            ]
        },
        {
            "cell_type": "code",
            "execution_count": 40,
            "metadata": {
                "vscode": {
                    "languageId": "r"
                }
            },
            "outputs": [
                {
                    "data": {
                        "text/html": [
                            "<ol>\n",
                            "\t<li><table class=\"dataframe\">\n",
                            "<caption>A matrix: 14 × 14 of type dbl</caption>\n",
                            "<thead>\n",
                            "\t<tr><th></th><th scope=col>v1</th><th scope=col>v2</th><th scope=col>v3</th><th scope=col>v4</th><th scope=col>v5</th><th scope=col>v6</th><th scope=col>v7</th><th scope=col>v8</th><th scope=col>v9</th><th scope=col>v10</th><th scope=col>v11</th><th scope=col>v12</th><th scope=col>v13</th><th scope=col>v14</th></tr>\n",
                            "</thead>\n",
                            "<tbody>\n",
                            "\t<tr><th scope=row>v1</th><td>1.00000000</td><td> 0.343844506</td><td>0.71585614</td><td> 0.336248446</td><td> 0.134717593</td><td>0.456970239</td><td>0.122657816</td><td> 0.209321214</td><td> 0.12149992</td><td> 0.160472685</td><td>0.120923335</td><td> 0.04319262</td><td>0.110441392</td><td> 0.132697916</td></tr>\n",
                            "\t<tr><th scope=row>v2</th><td>0.34384451</td><td> 1.000000000</td><td>0.43696115</td><td> 0.444757139</td><td> 0.004906371</td><td>0.070118712</td><td>0.011344160</td><td>-0.004861424</td><td> 0.06888233</td><td> 0.012441284</td><td>0.072125614</td><td> 0.09333301</td><td>0.073317527</td><td> 0.014292462</td></tr>\n",
                            "\t<tr><th scope=row>v3</th><td>0.71585614</td><td> 0.436961154</td><td>1.00000000</td><td> 0.458655466</td><td> 0.031873350</td><td>0.404074212</td><td>0.030014105</td><td> 0.047032286</td><td> 0.03883295</td><td> 0.107601383</td><td>0.038762366</td><td> 0.01108076</td><td>0.035272400</td><td> 0.016178525</td></tr>\n",
                            "\t<tr><th scope=row>v4</th><td>0.33624845</td><td> 0.444757139</td><td>0.45865547</td><td> 1.000000000</td><td>-0.001158605</td><td>0.001688022</td><td>0.003668779</td><td> 0.003516727</td><td>-0.02837304</td><td>-0.005873445</td><td>0.002313445</td><td>-0.03542748</td><td>0.001680728</td><td>-0.003829942</td></tr>\n",
                            "\t<tr><th scope=row>v5</th><td>0.13471759</td><td> 0.004906371</td><td>0.03187335</td><td>-0.001158605</td><td> 1.000000000</td><td>0.234468256</td><td>0.574556452</td><td> 0.622512032</td><td> 0.05907312</td><td> 0.032497633</td><td>0.034746145</td><td> 0.08729901</td><td>0.033992814</td><td> 0.657759734</td></tr>\n",
                            "\t<tr><th scope=row>v6</th><td>0.45697024</td><td> 0.070118712</td><td>0.40407421</td><td> 0.001688022</td><td> 0.234468256</td><td>1.000000000</td><td>0.420210726</td><td> 0.285066196</td><td> 0.15544289</td><td> 0.123950369</td><td>0.083280165</td><td> 0.20446156</td><td>0.074572863</td><td> 0.331517135</td></tr>\n",
                            "\t<tr><th scope=row>v7</th><td>0.12265782</td><td> 0.011344160</td><td>0.03001411</td><td> 0.003668779</td><td> 0.574556452</td><td>0.420210726</td><td>1.000000000</td><td> 0.610590126</td><td> 0.13197122</td><td> 0.105558612</td><td>0.074541614</td><td> 0.19185447</td><td>0.069217798</td><td> 0.678533914</td></tr>\n",
                            "\t<tr><th scope=row>v8</th><td>0.20932121</td><td>-0.004861424</td><td>0.04703229</td><td> 0.003516727</td><td> 0.622512032</td><td>0.285066196</td><td>0.610590126</td><td> 1.000000000</td><td> 0.42015270</td><td> 0.299691513</td><td>0.378210005</td><td> 0.12086724</td><td>0.404855182</td><td> 0.691814637</td></tr>\n",
                            "\t<tr><th scope=row>v9</th><td>0.12149992</td><td> 0.068882327</td><td>0.03883295</td><td>-0.028373042</td><td> 0.059073117</td><td>0.155442894</td><td>0.131971218</td><td> 0.420152701</td><td> 1.00000000</td><td> 0.355495158</td><td>0.519134194</td><td> 0.24391433</td><td>0.550782172</td><td> 0.123220055</td></tr>\n",
                            "\t<tr><th scope=row>v10</th><td>0.16047269</td><td> 0.012441284</td><td>0.10760138</td><td>-0.005873445</td><td> 0.032497633</td><td>0.123950369</td><td>0.105558612</td><td> 0.299691513</td><td> 0.35549516</td><td> 1.000000000</td><td>0.369544092</td><td> 0.15313722</td><td>0.368655679</td><td> 0.096370402</td></tr>\n",
                            "\t<tr><th scope=row>v11</th><td>0.12092333</td><td> 0.072125614</td><td>0.03876237</td><td> 0.002313445</td><td> 0.034746145</td><td>0.083280165</td><td>0.074541614</td><td> 0.378210005</td><td> 0.51913419</td><td> 0.369544092</td><td>1.000000000</td><td> 0.23312222</td><td>0.628561087</td><td> 0.095792667</td></tr>\n",
                            "\t<tr><th scope=row>v12</th><td>0.04319262</td><td> 0.093333010</td><td>0.01108076</td><td>-0.035427483</td><td> 0.087299007</td><td>0.204461563</td><td>0.191854469</td><td> 0.120867236</td><td> 0.24391433</td><td> 0.153137223</td><td>0.233122216</td><td> 1.00000000</td><td>0.237197207</td><td> 0.179582946</td></tr>\n",
                            "\t<tr><th scope=row>v13</th><td>0.11044139</td><td> 0.073317527</td><td>0.03527240</td><td> 0.001680728</td><td> 0.033992814</td><td>0.074572863</td><td>0.069217798</td><td> 0.404855182</td><td> 0.55078217</td><td> 0.368655679</td><td>0.628561087</td><td> 0.23719721</td><td>1.000000000</td><td> 0.088779183</td></tr>\n",
                            "\t<tr><th scope=row>v14</th><td>0.13269792</td><td> 0.014292462</td><td>0.01617853</td><td>-0.003829942</td><td> 0.657759734</td><td>0.331517135</td><td>0.678533914</td><td> 0.691814637</td><td> 0.12322005</td><td> 0.096370402</td><td>0.095792667</td><td> 0.17958295</td><td>0.088779183</td><td> 1.000000000</td></tr>\n",
                            "</tbody>\n",
                            "</table>\n",
                            "</li>\n",
                            "</ol>\n"
                        ],
                        "text/latex": [
                            "\\begin{enumerate}\n",
                            "\\item A matrix: 14 × 14 of type dbl\n",
                            "\\begin{tabular}{r|llllllllllllll}\n",
                            "  & v1 & v2 & v3 & v4 & v5 & v6 & v7 & v8 & v9 & v10 & v11 & v12 & v13 & v14\\\\\n",
                            "\\hline\n",
                            "\tv1 & 1.00000000 &  0.343844506 & 0.71585614 &  0.336248446 &  0.134717593 & 0.456970239 & 0.122657816 &  0.209321214 &  0.12149992 &  0.160472685 & 0.120923335 &  0.04319262 & 0.110441392 &  0.132697916\\\\\n",
                            "\tv2 & 0.34384451 &  1.000000000 & 0.43696115 &  0.444757139 &  0.004906371 & 0.070118712 & 0.011344160 & -0.004861424 &  0.06888233 &  0.012441284 & 0.072125614 &  0.09333301 & 0.073317527 &  0.014292462\\\\\n",
                            "\tv3 & 0.71585614 &  0.436961154 & 1.00000000 &  0.458655466 &  0.031873350 & 0.404074212 & 0.030014105 &  0.047032286 &  0.03883295 &  0.107601383 & 0.038762366 &  0.01108076 & 0.035272400 &  0.016178525\\\\\n",
                            "\tv4 & 0.33624845 &  0.444757139 & 0.45865547 &  1.000000000 & -0.001158605 & 0.001688022 & 0.003668779 &  0.003516727 & -0.02837304 & -0.005873445 & 0.002313445 & -0.03542748 & 0.001680728 & -0.003829942\\\\\n",
                            "\tv5 & 0.13471759 &  0.004906371 & 0.03187335 & -0.001158605 &  1.000000000 & 0.234468256 & 0.574556452 &  0.622512032 &  0.05907312 &  0.032497633 & 0.034746145 &  0.08729901 & 0.033992814 &  0.657759734\\\\\n",
                            "\tv6 & 0.45697024 &  0.070118712 & 0.40407421 &  0.001688022 &  0.234468256 & 1.000000000 & 0.420210726 &  0.285066196 &  0.15544289 &  0.123950369 & 0.083280165 &  0.20446156 & 0.074572863 &  0.331517135\\\\\n",
                            "\tv7 & 0.12265782 &  0.011344160 & 0.03001411 &  0.003668779 &  0.574556452 & 0.420210726 & 1.000000000 &  0.610590126 &  0.13197122 &  0.105558612 & 0.074541614 &  0.19185447 & 0.069217798 &  0.678533914\\\\\n",
                            "\tv8 & 0.20932121 & -0.004861424 & 0.04703229 &  0.003516727 &  0.622512032 & 0.285066196 & 0.610590126 &  1.000000000 &  0.42015270 &  0.299691513 & 0.378210005 &  0.12086724 & 0.404855182 &  0.691814637\\\\\n",
                            "\tv9 & 0.12149992 &  0.068882327 & 0.03883295 & -0.028373042 &  0.059073117 & 0.155442894 & 0.131971218 &  0.420152701 &  1.00000000 &  0.355495158 & 0.519134194 &  0.24391433 & 0.550782172 &  0.123220055\\\\\n",
                            "\tv10 & 0.16047269 &  0.012441284 & 0.10760138 & -0.005873445 &  0.032497633 & 0.123950369 & 0.105558612 &  0.299691513 &  0.35549516 &  1.000000000 & 0.369544092 &  0.15313722 & 0.368655679 &  0.096370402\\\\\n",
                            "\tv11 & 0.12092333 &  0.072125614 & 0.03876237 &  0.002313445 &  0.034746145 & 0.083280165 & 0.074541614 &  0.378210005 &  0.51913419 &  0.369544092 & 1.000000000 &  0.23312222 & 0.628561087 &  0.095792667\\\\\n",
                            "\tv12 & 0.04319262 &  0.093333010 & 0.01108076 & -0.035427483 &  0.087299007 & 0.204461563 & 0.191854469 &  0.120867236 &  0.24391433 &  0.153137223 & 0.233122216 &  1.00000000 & 0.237197207 &  0.179582946\\\\\n",
                            "\tv13 & 0.11044139 &  0.073317527 & 0.03527240 &  0.001680728 &  0.033992814 & 0.074572863 & 0.069217798 &  0.404855182 &  0.55078217 &  0.368655679 & 0.628561087 &  0.23719721 & 1.000000000 &  0.088779183\\\\\n",
                            "\tv14 & 0.13269792 &  0.014292462 & 0.01617853 & -0.003829942 &  0.657759734 & 0.331517135 & 0.678533914 &  0.691814637 &  0.12322005 &  0.096370402 & 0.095792667 &  0.17958295 & 0.088779183 &  1.000000000\\\\\n",
                            "\\end{tabular}\n",
                            "\n",
                            "\\end{enumerate}\n"
                        ],
                        "text/markdown": [
                            "1. \n",
                            "A matrix: 14 × 14 of type dbl\n",
                            "\n",
                            "| <!--/--> | v1 | v2 | v3 | v4 | v5 | v6 | v7 | v8 | v9 | v10 | v11 | v12 | v13 | v14 |\n",
                            "|---|---|---|---|---|---|---|---|---|---|---|---|---|---|---|\n",
                            "| v1 | 1.00000000 |  0.343844506 | 0.71585614 |  0.336248446 |  0.134717593 | 0.456970239 | 0.122657816 |  0.209321214 |  0.12149992 |  0.160472685 | 0.120923335 |  0.04319262 | 0.110441392 |  0.132697916 |\n",
                            "| v2 | 0.34384451 |  1.000000000 | 0.43696115 |  0.444757139 |  0.004906371 | 0.070118712 | 0.011344160 | -0.004861424 |  0.06888233 |  0.012441284 | 0.072125614 |  0.09333301 | 0.073317527 |  0.014292462 |\n",
                            "| v3 | 0.71585614 |  0.436961154 | 1.00000000 |  0.458655466 |  0.031873350 | 0.404074212 | 0.030014105 |  0.047032286 |  0.03883295 |  0.107601383 | 0.038762366 |  0.01108076 | 0.035272400 |  0.016178525 |\n",
                            "| v4 | 0.33624845 |  0.444757139 | 0.45865547 |  1.000000000 | -0.001158605 | 0.001688022 | 0.003668779 |  0.003516727 | -0.02837304 | -0.005873445 | 0.002313445 | -0.03542748 | 0.001680728 | -0.003829942 |\n",
                            "| v5 | 0.13471759 |  0.004906371 | 0.03187335 | -0.001158605 |  1.000000000 | 0.234468256 | 0.574556452 |  0.622512032 |  0.05907312 |  0.032497633 | 0.034746145 |  0.08729901 | 0.033992814 |  0.657759734 |\n",
                            "| v6 | 0.45697024 |  0.070118712 | 0.40407421 |  0.001688022 |  0.234468256 | 1.000000000 | 0.420210726 |  0.285066196 |  0.15544289 |  0.123950369 | 0.083280165 |  0.20446156 | 0.074572863 |  0.331517135 |\n",
                            "| v7 | 0.12265782 |  0.011344160 | 0.03001411 |  0.003668779 |  0.574556452 | 0.420210726 | 1.000000000 |  0.610590126 |  0.13197122 |  0.105558612 | 0.074541614 |  0.19185447 | 0.069217798 |  0.678533914 |\n",
                            "| v8 | 0.20932121 | -0.004861424 | 0.04703229 |  0.003516727 |  0.622512032 | 0.285066196 | 0.610590126 |  1.000000000 |  0.42015270 |  0.299691513 | 0.378210005 |  0.12086724 | 0.404855182 |  0.691814637 |\n",
                            "| v9 | 0.12149992 |  0.068882327 | 0.03883295 | -0.028373042 |  0.059073117 | 0.155442894 | 0.131971218 |  0.420152701 |  1.00000000 |  0.355495158 | 0.519134194 |  0.24391433 | 0.550782172 |  0.123220055 |\n",
                            "| v10 | 0.16047269 |  0.012441284 | 0.10760138 | -0.005873445 |  0.032497633 | 0.123950369 | 0.105558612 |  0.299691513 |  0.35549516 |  1.000000000 | 0.369544092 |  0.15313722 | 0.368655679 |  0.096370402 |\n",
                            "| v11 | 0.12092333 |  0.072125614 | 0.03876237 |  0.002313445 |  0.034746145 | 0.083280165 | 0.074541614 |  0.378210005 |  0.51913419 |  0.369544092 | 1.000000000 |  0.23312222 | 0.628561087 |  0.095792667 |\n",
                            "| v12 | 0.04319262 |  0.093333010 | 0.01108076 | -0.035427483 |  0.087299007 | 0.204461563 | 0.191854469 |  0.120867236 |  0.24391433 |  0.153137223 | 0.233122216 |  1.00000000 | 0.237197207 |  0.179582946 |\n",
                            "| v13 | 0.11044139 |  0.073317527 | 0.03527240 |  0.001680728 |  0.033992814 | 0.074572863 | 0.069217798 |  0.404855182 |  0.55078217 |  0.368655679 | 0.628561087 |  0.23719721 | 1.000000000 |  0.088779183 |\n",
                            "| v14 | 0.13269792 |  0.014292462 | 0.01617853 | -0.003829942 |  0.657759734 | 0.331517135 | 0.678533914 |  0.691814637 |  0.12322005 |  0.096370402 | 0.095792667 |  0.17958295 | 0.088779183 |  1.000000000 |\n",
                            "\n",
                            "\n",
                            "\n",
                            "\n"
                        ],
                        "text/plain": [
                            "[[1]]\n",
                            "            v1           v2         v3           v4           v5          v6\n",
                            "v1  1.00000000  0.343844506 0.71585614  0.336248446  0.134717593 0.456970239\n",
                            "v2  0.34384451  1.000000000 0.43696115  0.444757139  0.004906371 0.070118712\n",
                            "v3  0.71585614  0.436961154 1.00000000  0.458655466  0.031873350 0.404074212\n",
                            "v4  0.33624845  0.444757139 0.45865547  1.000000000 -0.001158605 0.001688022\n",
                            "v5  0.13471759  0.004906371 0.03187335 -0.001158605  1.000000000 0.234468256\n",
                            "v6  0.45697024  0.070118712 0.40407421  0.001688022  0.234468256 1.000000000\n",
                            "v7  0.12265782  0.011344160 0.03001411  0.003668779  0.574556452 0.420210726\n",
                            "v8  0.20932121 -0.004861424 0.04703229  0.003516727  0.622512032 0.285066196\n",
                            "v9  0.12149992  0.068882327 0.03883295 -0.028373042  0.059073117 0.155442894\n",
                            "v10 0.16047269  0.012441284 0.10760138 -0.005873445  0.032497633 0.123950369\n",
                            "v11 0.12092333  0.072125614 0.03876237  0.002313445  0.034746145 0.083280165\n",
                            "v12 0.04319262  0.093333010 0.01108076 -0.035427483  0.087299007 0.204461563\n",
                            "v13 0.11044139  0.073317527 0.03527240  0.001680728  0.033992814 0.074572863\n",
                            "v14 0.13269792  0.014292462 0.01617853 -0.003829942  0.657759734 0.331517135\n",
                            "             v7           v8          v9          v10         v11         v12\n",
                            "v1  0.122657816  0.209321214  0.12149992  0.160472685 0.120923335  0.04319262\n",
                            "v2  0.011344160 -0.004861424  0.06888233  0.012441284 0.072125614  0.09333301\n",
                            "v3  0.030014105  0.047032286  0.03883295  0.107601383 0.038762366  0.01108076\n",
                            "v4  0.003668779  0.003516727 -0.02837304 -0.005873445 0.002313445 -0.03542748\n",
                            "v5  0.574556452  0.622512032  0.05907312  0.032497633 0.034746145  0.08729901\n",
                            "v6  0.420210726  0.285066196  0.15544289  0.123950369 0.083280165  0.20446156\n",
                            "v7  1.000000000  0.610590126  0.13197122  0.105558612 0.074541614  0.19185447\n",
                            "v8  0.610590126  1.000000000  0.42015270  0.299691513 0.378210005  0.12086724\n",
                            "v9  0.131971218  0.420152701  1.00000000  0.355495158 0.519134194  0.24391433\n",
                            "v10 0.105558612  0.299691513  0.35549516  1.000000000 0.369544092  0.15313722\n",
                            "v11 0.074541614  0.378210005  0.51913419  0.369544092 1.000000000  0.23312222\n",
                            "v12 0.191854469  0.120867236  0.24391433  0.153137223 0.233122216  1.00000000\n",
                            "v13 0.069217798  0.404855182  0.55078217  0.368655679 0.628561087  0.23719721\n",
                            "v14 0.678533914  0.691814637  0.12322005  0.096370402 0.095792667  0.17958295\n",
                            "            v13          v14\n",
                            "v1  0.110441392  0.132697916\n",
                            "v2  0.073317527  0.014292462\n",
                            "v3  0.035272400  0.016178525\n",
                            "v4  0.001680728 -0.003829942\n",
                            "v5  0.033992814  0.657759734\n",
                            "v6  0.074572863  0.331517135\n",
                            "v7  0.069217798  0.678533914\n",
                            "v8  0.404855182  0.691814637\n",
                            "v9  0.550782172  0.123220055\n",
                            "v10 0.368655679  0.096370402\n",
                            "v11 0.628561087  0.095792667\n",
                            "v12 0.237197207  0.179582946\n",
                            "v13 1.000000000  0.088779183\n",
                            "v14 0.088779183  1.000000000\n"
                        ]
                    },
                    "metadata": {},
                    "output_type": "display_data"
                }
            ],
            "source": [
                "list(data_cor)"
            ]
        },
        {
            "cell_type": "markdown",
            "metadata": {},
            "source": [
                "<a id='corplot'></a>\n",
                "\n",
                "## Correlation Plot\n"
            ]
        },
        {
            "cell_type": "code",
            "execution_count": 41,
            "metadata": {
                "vscode": {
                    "languageId": "r"
                }
            },
            "outputs": [
                {
                    "data": {
                        "image/png": "[encoded data removed]",
                        "text/plain": [
                            "Plot with title \"\""
                        ]
                    },
                    "metadata": {
                        "image/png": {
                            "height": 420,
                            "width": 420
                        }
                    },
                    "output_type": "display_data"
                }
            ],
            "source": [
                "corrplot(data_cor,\n",
                "    method = \"number\",\n",
                "    col = colorRampPalette(c(\"white\", \"#85C1E9\", \"#4A235A\"))(100)\n",
                ")\n"
            ]
        },
        {
            "cell_type": "code",
            "execution_count": 42,
            "metadata": {
                "vscode": {
                    "languageId": "r"
                }
            },
            "outputs": [
                {
                    "data": {
                        "image/png": "[encoded data removed]",
                        "text/plain": [
                            "Plot with title \"\""
                        ]
                    },
                    "metadata": {
                        "image/png": {
                            "height": 420,
                            "width": 420
                        }
                    },
                    "output_type": "display_data"
                }
            ],
            "source": [
                "corrplot(data_cor,\n",
                "    method = \"color\"\n",
                ")\n"
            ]
        },
        {
            "attachments": {},
            "cell_type": "markdown",
            "metadata": {},
            "source": [
                "<a id='factor-analysis'></a>\n",
                "\n",
                "# Factor Analysis\n",
                "\n",
                "Factor analysis is a way of taking a chunk of data and shrinking it into a smaller dataset that is more manageable and more understandable.\n",
                "\n",
                "<a id='kmo-barlett'></a>\n",
                "\n",
                "## KMO and Bartlett's Test\n",
                "\n",
                "<a id='kmo-test'></a>\n",
                "\n",
                "### KMO Test\n",
                "\n",
                "The Kaiser--Meyer--Olkin (KMO) test is a test used to examine the strength of the partial correlation between variables.\n",
                "So it measures how convenient it is.\n"
            ]
        },
        {
            "cell_type": "code",
            "execution_count": 43,
            "metadata": {
                "vscode": {
                    "languageId": "r"
                }
            },
            "outputs": [
                {
                    "data": {
                        "text/plain": [
                            "Kaiser-Meyer-Olkin factor adequacy\n",
                            "Call: KMO(r = data_cor)\n",
                            "Overall MSA =  0.78\n",
                            "MSA for each item = \n",
                            "  v1   v2   v3   v4   v5   v6   v7   v8   v9  v10  v11  v12  v13  v14 \n",
                            "0.74 0.75 0.68 0.71 0.84 0.74 0.83 0.77 0.83 0.89 0.81 0.70 0.78 0.82 "
                        ]
                    },
                    "metadata": {},
                    "output_type": "display_data"
                }
            ],
            "source": [
                "# Kaiser-Meyer-Olkin Measure of Sampling Adequacy\n",
                "KMO(data_cor)\n"
            ]
        },
        {
            "cell_type": "markdown",
            "metadata": {},
            "source": [
                "<u>**KMO Test Interpretation**</u><br>\n",
                "\n",
                "If the Kaiser--Meyer--Olkin (KMO) Sampling Adequacy Measure is greater than or equal to 0.60, factor analysis is continued.\n",
                "The result is 0.78, which is sufficient.\n",
                "\n",
                "<a id='barlett-test'></a>\n",
                "\n",
                "### Bartlett's Test\n",
                "\n",
                "Bartlett's test of Sphericity tests the null hypothesis that the correlation matrix is an identity matrix.\n",
                "That is, it is used to test the hypothesis that the correlation matrix is a unit matrix.\n"
            ]
        },
        {
            "cell_type": "code",
            "execution_count": 44,
            "metadata": {
                "vscode": {
                    "languageId": "r"
                }
            },
            "outputs": [
                {
                    "data": {
                        "text/html": [
                            "<dl>\n",
                            "\t<dt>$chisq</dt>\n",
                            "\t\t<dd>601676.893856402</dd>\n",
                            "\t<dt>$p.value</dt>\n",
                            "\t\t<dd>0</dd>\n",
                            "\t<dt>$df</dt>\n",
                            "\t\t<dd>91</dd>\n",
                            "</dl>\n"
                        ],
                        "text/latex": [
                            "\\begin{description}\n",
                            "\\item[\\$chisq] 601676.893856402\n",
                            "\\item[\\$p.value] 0\n",
                            "\\item[\\$df] 91\n",
                            "\\end{description}\n"
                        ],
                        "text/markdown": [
                            "$chisq\n",
                            ":   601676.893856402\n",
                            "$p.value\n",
                            ":   0\n",
                            "$df\n",
                            ":   91\n",
                            "\n",
                            "\n"
                        ],
                        "text/plain": [
                            "$chisq\n",
                            "[1] 601676.9\n",
                            "\n",
                            "$p.value\n",
                            "[1] 0\n",
                            "\n",
                            "$df\n",
                            "[1] 91\n"
                        ]
                    },
                    "metadata": {},
                    "output_type": "display_data"
                }
            ],
            "source": [
                "# Bartlett's Test of Sphericity\n",
                "cortest.bartlett(data_cor, n = nrow(df))\n"
            ]
        },
        {
            "attachments": {},
            "cell_type": "markdown",
            "metadata": {},
            "source": [
                "<u>**Bartlett's Test Interpretation**</u><br>\n",
                "\n",
                "An important statistical test (usually less than 0.05) shows that the correlation matrix is not really a unit matrix (rejection of the null hypothesis).\n",
                "If the result is less than 0.05, the analysis is continued."
            ]
        },
        {
            "attachments": {},
            "cell_type": "markdown",
            "metadata": {},
            "source": [
                "<a id='anti-image'></a>\n",
                "\n",
                "### Anti-image Correlation/Covariance Matrix\n",
                "\n",
                "The image of a variable is defined as that part which is predictable by regressing each variable on all the other variables.\n",
                "So anti image is the part of the variable that cannot be predicted [ref](https://www.stata.com/manuals13/mvglossary.pdf)."
            ]
        },
        {
            "cell_type": "code",
            "execution_count": 45,
            "metadata": {
                "vscode": {
                    "languageId": "r"
                }
            },
            "outputs": [
                {
                    "data": {
                        "text/html": [
                            "<table class=\"dataframe\">\n",
                            "<caption>A matrix: 14 × 14 of type dbl</caption>\n",
                            "<tbody>\n",
                            "\t<tr><td> 0.426863607</td><td>-0.042489551</td><td>-0.218169603</td><td>-0.0298267924</td><td>-0.014264952</td><td>-0.118526190</td><td> 0.035922636</td><td>-0.041530521</td><td> 0.003835708</td><td>-0.026229667</td><td>-0.0127475203</td><td> 0.01638336</td><td> 0.0028954845</td><td> 0.006554469</td></tr>\n",
                            "\t<tr><td>-0.042489551</td><td> 0.700397675</td><td>-0.110087726</td><td>-0.1918995974</td><td>-0.009147909</td><td> 0.072465603</td><td>-0.021941862</td><td> 0.042178214</td><td>-0.042713295</td><td> 0.042594429</td><td>-0.0198746825</td><td>-0.07073104</td><td>-0.0244350816</td><td>-0.026315650</td></tr>\n",
                            "\t<tr><td>-0.218169603</td><td>-0.110087726</td><td> 0.379330921</td><td>-0.1455862047</td><td>-0.007359772</td><td>-0.124985047</td><td> 0.028784663</td><td> 0.011723763</td><td> 0.013565360</td><td>-0.035440395</td><td> 0.0106974170</td><td> 0.02605255</td><td> 0.0031223005</td><td> 0.018980061</td></tr>\n",
                            "\t<tr><td>-0.029826792</td><td>-0.191899597</td><td>-0.145586205</td><td> 0.6763103339</td><td> 0.020266513</td><td> 0.129379781</td><td>-0.036922410</td><td>-0.009225457</td><td> 0.023446157</td><td> 0.026190393</td><td> 0.0004708161</td><td> 0.02062265</td><td> 0.0003334891</td><td>-0.004070642</td></tr>\n",
                            "\t<tr><td>-0.014264952</td><td>-0.009147909</td><td>-0.007359772</td><td> 0.0202665133</td><td> 0.464018085</td><td> 0.025168734</td><td>-0.061521686</td><td>-0.121697286</td><td> 0.053215195</td><td> 0.053070754</td><td> 0.0318830803</td><td>-0.02093519</td><td> 0.0393149156</td><td>-0.098660375</td></tr>\n",
                            "\t<tr><td>-0.118526190</td><td> 0.072465603</td><td>-0.124985047</td><td> 0.1293797809</td><td> 0.025168734</td><td> 0.566084321</td><td>-0.150069555</td><td> 0.022701589</td><td>-0.046908934</td><td> 0.009597663</td><td> 0.0055290929</td><td>-0.08734599</td><td> 0.0087236475</td><td>-0.042719285</td></tr>\n",
                            "\t<tr><td> 0.035922636</td><td>-0.021941862</td><td> 0.028784663</td><td>-0.0369224103</td><td>-0.061521686</td><td>-0.150069555</td><td> 0.426921568</td><td>-0.084251014</td><td> 0.016946966</td><td>-0.008759571</td><td> 0.0257559371</td><td>-0.05961288</td><td> 0.0367308904</td><td>-0.104980860</td></tr>\n",
                            "\t<tr><td>-0.041530521</td><td> 0.042178214</td><td> 0.011723763</td><td>-0.0092254566</td><td>-0.121697286</td><td> 0.022701589</td><td>-0.084251014</td><td> 0.265820656</td><td>-0.103186874</td><td>-0.059686418</td><td>-0.0585027790</td><td> 0.09606678</td><td>-0.0882431412</td><td>-0.124362796</td></tr>\n",
                            "\t<tr><td> 0.003835708</td><td>-0.042713295</td><td> 0.013565360</td><td> 0.0234461569</td><td> 0.053215195</td><td>-0.046908934</td><td> 0.016946966</td><td>-0.103186874</td><td> 0.571448513</td><td>-0.066120479</td><td>-0.0958416312</td><td>-0.08655378</td><td>-0.1151798356</td><td> 0.047624454</td></tr>\n",
                            "\t<tr><td>-0.026229667</td><td> 0.042594429</td><td>-0.035440395</td><td> 0.0261903929</td><td> 0.053070754</td><td> 0.009597663</td><td>-0.008759571</td><td>-0.059686418</td><td>-0.066120479</td><td> 0.777503247</td><td>-0.0753207015</td><td>-0.04663299</td><td>-0.0560831931</td><td> 0.017349122</td></tr>\n",
                            "\t<tr><td>-0.012747520</td><td>-0.019874682</td><td> 0.010697417</td><td> 0.0004708161</td><td> 0.031883080</td><td> 0.005529093</td><td> 0.025755937</td><td>-0.058502779</td><td>-0.095841631</td><td>-0.075320701</td><td> 0.5318893243</td><td>-0.06676355</td><td>-0.1963603349</td><td> 0.018033075</td></tr>\n",
                            "\t<tr><td> 0.016383357</td><td>-0.070731042</td><td> 0.026052554</td><td> 0.0206226486</td><td>-0.020935192</td><td>-0.087345990</td><td>-0.059612877</td><td> 0.096066778</td><td>-0.086553775</td><td>-0.046632988</td><td>-0.0667635487</td><td> 0.82324341</td><td>-0.0772583654</td><td>-0.073568786</td></tr>\n",
                            "\t<tr><td> 0.002895484</td><td>-0.024435082</td><td> 0.003122300</td><td> 0.0003334891</td><td> 0.039314916</td><td> 0.008723648</td><td> 0.036730890</td><td>-0.088243141</td><td>-0.115179836</td><td>-0.056083193</td><td>-0.1963603349</td><td>-0.07725837</td><td> 0.4914873136</td><td> 0.037140947</td></tr>\n",
                            "\t<tr><td> 0.006554469</td><td>-0.026315650</td><td> 0.018980061</td><td>-0.0040706418</td><td>-0.098660375</td><td>-0.042719285</td><td>-0.104980860</td><td>-0.124362796</td><td> 0.047624454</td><td> 0.017349122</td><td> 0.0180330753</td><td>-0.07356879</td><td> 0.0371409471</td><td> 0.353274421</td></tr>\n",
                            "</tbody>\n",
                            "</table>\n"
                        ],
                        "text/latex": [
                            "A matrix: 14 × 14 of type dbl\n",
                            "\\begin{tabular}{llllllllllllll}\n",
                            "\t  0.426863607 & -0.042489551 & -0.218169603 & -0.0298267924 & -0.014264952 & -0.118526190 &  0.035922636 & -0.041530521 &  0.003835708 & -0.026229667 & -0.0127475203 &  0.01638336 &  0.0028954845 &  0.006554469\\\\\n",
                            "\t -0.042489551 &  0.700397675 & -0.110087726 & -0.1918995974 & -0.009147909 &  0.072465603 & -0.021941862 &  0.042178214 & -0.042713295 &  0.042594429 & -0.0198746825 & -0.07073104 & -0.0244350816 & -0.026315650\\\\\n",
                            "\t -0.218169603 & -0.110087726 &  0.379330921 & -0.1455862047 & -0.007359772 & -0.124985047 &  0.028784663 &  0.011723763 &  0.013565360 & -0.035440395 &  0.0106974170 &  0.02605255 &  0.0031223005 &  0.018980061\\\\\n",
                            "\t -0.029826792 & -0.191899597 & -0.145586205 &  0.6763103339 &  0.020266513 &  0.129379781 & -0.036922410 & -0.009225457 &  0.023446157 &  0.026190393 &  0.0004708161 &  0.02062265 &  0.0003334891 & -0.004070642\\\\\n",
                            "\t -0.014264952 & -0.009147909 & -0.007359772 &  0.0202665133 &  0.464018085 &  0.025168734 & -0.061521686 & -0.121697286 &  0.053215195 &  0.053070754 &  0.0318830803 & -0.02093519 &  0.0393149156 & -0.098660375\\\\\n",
                            "\t -0.118526190 &  0.072465603 & -0.124985047 &  0.1293797809 &  0.025168734 &  0.566084321 & -0.150069555 &  0.022701589 & -0.046908934 &  0.009597663 &  0.0055290929 & -0.08734599 &  0.0087236475 & -0.042719285\\\\\n",
                            "\t  0.035922636 & -0.021941862 &  0.028784663 & -0.0369224103 & -0.061521686 & -0.150069555 &  0.426921568 & -0.084251014 &  0.016946966 & -0.008759571 &  0.0257559371 & -0.05961288 &  0.0367308904 & -0.104980860\\\\\n",
                            "\t -0.041530521 &  0.042178214 &  0.011723763 & -0.0092254566 & -0.121697286 &  0.022701589 & -0.084251014 &  0.265820656 & -0.103186874 & -0.059686418 & -0.0585027790 &  0.09606678 & -0.0882431412 & -0.124362796\\\\\n",
                            "\t  0.003835708 & -0.042713295 &  0.013565360 &  0.0234461569 &  0.053215195 & -0.046908934 &  0.016946966 & -0.103186874 &  0.571448513 & -0.066120479 & -0.0958416312 & -0.08655378 & -0.1151798356 &  0.047624454\\\\\n",
                            "\t -0.026229667 &  0.042594429 & -0.035440395 &  0.0261903929 &  0.053070754 &  0.009597663 & -0.008759571 & -0.059686418 & -0.066120479 &  0.777503247 & -0.0753207015 & -0.04663299 & -0.0560831931 &  0.017349122\\\\\n",
                            "\t -0.012747520 & -0.019874682 &  0.010697417 &  0.0004708161 &  0.031883080 &  0.005529093 &  0.025755937 & -0.058502779 & -0.095841631 & -0.075320701 &  0.5318893243 & -0.06676355 & -0.1963603349 &  0.018033075\\\\\n",
                            "\t  0.016383357 & -0.070731042 &  0.026052554 &  0.0206226486 & -0.020935192 & -0.087345990 & -0.059612877 &  0.096066778 & -0.086553775 & -0.046632988 & -0.0667635487 &  0.82324341 & -0.0772583654 & -0.073568786\\\\\n",
                            "\t  0.002895484 & -0.024435082 &  0.003122300 &  0.0003334891 &  0.039314916 &  0.008723648 &  0.036730890 & -0.088243141 & -0.115179836 & -0.056083193 & -0.1963603349 & -0.07725837 &  0.4914873136 &  0.037140947\\\\\n",
                            "\t  0.006554469 & -0.026315650 &  0.018980061 & -0.0040706418 & -0.098660375 & -0.042719285 & -0.104980860 & -0.124362796 &  0.047624454 &  0.017349122 &  0.0180330753 & -0.07356879 &  0.0371409471 &  0.353274421\\\\\n",
                            "\\end{tabular}\n"
                        ],
                        "text/markdown": [
                            "\n",
                            "A matrix: 14 × 14 of type dbl\n",
                            "\n",
                            "|  0.426863607 | -0.042489551 | -0.218169603 | -0.0298267924 | -0.014264952 | -0.118526190 |  0.035922636 | -0.041530521 |  0.003835708 | -0.026229667 | -0.0127475203 |  0.01638336 |  0.0028954845 |  0.006554469 |\n",
                            "| -0.042489551 |  0.700397675 | -0.110087726 | -0.1918995974 | -0.009147909 |  0.072465603 | -0.021941862 |  0.042178214 | -0.042713295 |  0.042594429 | -0.0198746825 | -0.07073104 | -0.0244350816 | -0.026315650 |\n",
                            "| -0.218169603 | -0.110087726 |  0.379330921 | -0.1455862047 | -0.007359772 | -0.124985047 |  0.028784663 |  0.011723763 |  0.013565360 | -0.035440395 |  0.0106974170 |  0.02605255 |  0.0031223005 |  0.018980061 |\n",
                            "| -0.029826792 | -0.191899597 | -0.145586205 |  0.6763103339 |  0.020266513 |  0.129379781 | -0.036922410 | -0.009225457 |  0.023446157 |  0.026190393 |  0.0004708161 |  0.02062265 |  0.0003334891 | -0.004070642 |\n",
                            "| -0.014264952 | -0.009147909 | -0.007359772 |  0.0202665133 |  0.464018085 |  0.025168734 | -0.061521686 | -0.121697286 |  0.053215195 |  0.053070754 |  0.0318830803 | -0.02093519 |  0.0393149156 | -0.098660375 |\n",
                            "| -0.118526190 |  0.072465603 | -0.124985047 |  0.1293797809 |  0.025168734 |  0.566084321 | -0.150069555 |  0.022701589 | -0.046908934 |  0.009597663 |  0.0055290929 | -0.08734599 |  0.0087236475 | -0.042719285 |\n",
                            "|  0.035922636 | -0.021941862 |  0.028784663 | -0.0369224103 | -0.061521686 | -0.150069555 |  0.426921568 | -0.084251014 |  0.016946966 | -0.008759571 |  0.0257559371 | -0.05961288 |  0.0367308904 | -0.104980860 |\n",
                            "| -0.041530521 |  0.042178214 |  0.011723763 | -0.0092254566 | -0.121697286 |  0.022701589 | -0.084251014 |  0.265820656 | -0.103186874 | -0.059686418 | -0.0585027790 |  0.09606678 | -0.0882431412 | -0.124362796 |\n",
                            "|  0.003835708 | -0.042713295 |  0.013565360 |  0.0234461569 |  0.053215195 | -0.046908934 |  0.016946966 | -0.103186874 |  0.571448513 | -0.066120479 | -0.0958416312 | -0.08655378 | -0.1151798356 |  0.047624454 |\n",
                            "| -0.026229667 |  0.042594429 | -0.035440395 |  0.0261903929 |  0.053070754 |  0.009597663 | -0.008759571 | -0.059686418 | -0.066120479 |  0.777503247 | -0.0753207015 | -0.04663299 | -0.0560831931 |  0.017349122 |\n",
                            "| -0.012747520 | -0.019874682 |  0.010697417 |  0.0004708161 |  0.031883080 |  0.005529093 |  0.025755937 | -0.058502779 | -0.095841631 | -0.075320701 |  0.5318893243 | -0.06676355 | -0.1963603349 |  0.018033075 |\n",
                            "|  0.016383357 | -0.070731042 |  0.026052554 |  0.0206226486 | -0.020935192 | -0.087345990 | -0.059612877 |  0.096066778 | -0.086553775 | -0.046632988 | -0.0667635487 |  0.82324341 | -0.0772583654 | -0.073568786 |\n",
                            "|  0.002895484 | -0.024435082 |  0.003122300 |  0.0003334891 |  0.039314916 |  0.008723648 |  0.036730890 | -0.088243141 | -0.115179836 | -0.056083193 | -0.1963603349 | -0.07725837 |  0.4914873136 |  0.037140947 |\n",
                            "|  0.006554469 | -0.026315650 |  0.018980061 | -0.0040706418 | -0.098660375 | -0.042719285 | -0.104980860 | -0.124362796 |  0.047624454 |  0.017349122 |  0.0180330753 | -0.07356879 |  0.0371409471 |  0.353274421 |\n",
                            "\n"
                        ],
                        "text/plain": [
                            "      [,1]         [,2]         [,3]         [,4]          [,5]        \n",
                            " [1,]  0.426863607 -0.042489551 -0.218169603 -0.0298267924 -0.014264952\n",
                            " [2,] -0.042489551  0.700397675 -0.110087726 -0.1918995974 -0.009147909\n",
                            " [3,] -0.218169603 -0.110087726  0.379330921 -0.1455862047 -0.007359772\n",
                            " [4,] -0.029826792 -0.191899597 -0.145586205  0.6763103339  0.020266513\n",
                            " [5,] -0.014264952 -0.009147909 -0.007359772  0.0202665133  0.464018085\n",
                            " [6,] -0.118526190  0.072465603 -0.124985047  0.1293797809  0.025168734\n",
                            " [7,]  0.035922636 -0.021941862  0.028784663 -0.0369224103 -0.061521686\n",
                            " [8,] -0.041530521  0.042178214  0.011723763 -0.0092254566 -0.121697286\n",
                            " [9,]  0.003835708 -0.042713295  0.013565360  0.0234461569  0.053215195\n",
                            "[10,] -0.026229667  0.042594429 -0.035440395  0.0261903929  0.053070754\n",
                            "[11,] -0.012747520 -0.019874682  0.010697417  0.0004708161  0.031883080\n",
                            "[12,]  0.016383357 -0.070731042  0.026052554  0.0206226486 -0.020935192\n",
                            "[13,]  0.002895484 -0.024435082  0.003122300  0.0003334891  0.039314916\n",
                            "[14,]  0.006554469 -0.026315650  0.018980061 -0.0040706418 -0.098660375\n",
                            "      [,6]         [,7]         [,8]         [,9]         [,10]       \n",
                            " [1,] -0.118526190  0.035922636 -0.041530521  0.003835708 -0.026229667\n",
                            " [2,]  0.072465603 -0.021941862  0.042178214 -0.042713295  0.042594429\n",
                            " [3,] -0.124985047  0.028784663  0.011723763  0.013565360 -0.035440395\n",
                            " [4,]  0.129379781 -0.036922410 -0.009225457  0.023446157  0.026190393\n",
                            " [5,]  0.025168734 -0.061521686 -0.121697286  0.053215195  0.053070754\n",
                            " [6,]  0.566084321 -0.150069555  0.022701589 -0.046908934  0.009597663\n",
                            " [7,] -0.150069555  0.426921568 -0.084251014  0.016946966 -0.008759571\n",
                            " [8,]  0.022701589 -0.084251014  0.265820656 -0.103186874 -0.059686418\n",
                            " [9,] -0.046908934  0.016946966 -0.103186874  0.571448513 -0.066120479\n",
                            "[10,]  0.009597663 -0.008759571 -0.059686418 -0.066120479  0.777503247\n",
                            "[11,]  0.005529093  0.025755937 -0.058502779 -0.095841631 -0.075320701\n",
                            "[12,] -0.087345990 -0.059612877  0.096066778 -0.086553775 -0.046632988\n",
                            "[13,]  0.008723648  0.036730890 -0.088243141 -0.115179836 -0.056083193\n",
                            "[14,] -0.042719285 -0.104980860 -0.124362796  0.047624454  0.017349122\n",
                            "      [,11]         [,12]       [,13]         [,14]       \n",
                            " [1,] -0.0127475203  0.01638336  0.0028954845  0.006554469\n",
                            " [2,] -0.0198746825 -0.07073104 -0.0244350816 -0.026315650\n",
                            " [3,]  0.0106974170  0.02605255  0.0031223005  0.018980061\n",
                            " [4,]  0.0004708161  0.02062265  0.0003334891 -0.004070642\n",
                            " [5,]  0.0318830803 -0.02093519  0.0393149156 -0.098660375\n",
                            " [6,]  0.0055290929 -0.08734599  0.0087236475 -0.042719285\n",
                            " [7,]  0.0257559371 -0.05961288  0.0367308904 -0.104980860\n",
                            " [8,] -0.0585027790  0.09606678 -0.0882431412 -0.124362796\n",
                            " [9,] -0.0958416312 -0.08655378 -0.1151798356  0.047624454\n",
                            "[10,] -0.0753207015 -0.04663299 -0.0560831931  0.017349122\n",
                            "[11,]  0.5318893243 -0.06676355 -0.1963603349  0.018033075\n",
                            "[12,] -0.0667635487  0.82324341 -0.0772583654 -0.073568786\n",
                            "[13,] -0.1963603349 -0.07725837  0.4914873136  0.037140947\n",
                            "[14,]  0.0180330753 -0.07356879  0.0371409471  0.353274421"
                        ]
                    },
                    "metadata": {},
                    "output_type": "display_data"
                }
            ],
            "source": [
                "# Anti-image Covariance\n",
                "\n",
                "KMO(data_cor)$ImCov\n"
            ]
        },
        {
            "cell_type": "code",
            "execution_count": 46,
            "metadata": {
                "vscode": {
                    "languageId": "r"
                }
            },
            "outputs": [
                {
                    "data": {
                        "text/html": [
                            "<dl>\n",
                            "\t<dt>$AIR</dt>\n",
                            "\t\t<dd><table class=\"dataframe\">\n",
                            "<caption>A matrix: 14 × 14 of type dbl</caption>\n",
                            "<thead>\n",
                            "\t<tr><th></th><th scope=col>v1</th><th scope=col>v2</th><th scope=col>v3</th><th scope=col>v4</th><th scope=col>v5</th><th scope=col>v6</th><th scope=col>v7</th><th scope=col>v8</th><th scope=col>v9</th><th scope=col>v10</th><th scope=col>v11</th><th scope=col>v12</th><th scope=col>v13</th><th scope=col>v14</th></tr>\n",
                            "</thead>\n",
                            "<tbody>\n",
                            "\t<tr><th scope=row>v1</th><td> 0.741859921</td><td>-0.07770791</td><td>-0.542176329</td><td>-0.0555122685</td><td>-0.03205223</td><td>-0.24111776</td><td> 0.08414912</td><td>-0.12329017</td><td> 0.007766269</td><td>-0.04552994</td><td>-0.0267528781</td><td> 0.02763721</td><td> 0.0063215055</td><td> 0.016878616</td></tr>\n",
                            "\t<tr><th scope=row>v2</th><td>-0.077707910</td><td> 0.75273127</td><td>-0.213578449</td><td>-0.2788230696</td><td>-0.01604656</td><td> 0.11508507</td><td>-0.04012611</td><td> 0.09775106</td><td>-0.067515295</td><td> 0.05772040</td><td>-0.0325624605</td><td>-0.09314801</td><td>-0.0416471502</td><td>-0.052903652</td></tr>\n",
                            "\t<tr><th scope=row>v3</th><td>-0.542176329</td><td>-0.21357845</td><td> 0.681731135</td><td>-0.2874339677</td><td>-0.01754235</td><td>-0.26971703</td><td> 0.07152831</td><td> 0.03692016</td><td> 0.029136249</td><td>-0.06525869</td><td> 0.0238154706</td><td> 0.04662051</td><td> 0.0072311841</td><td> 0.051848044</td></tr>\n",
                            "\t<tr><th scope=row>v4</th><td>-0.055512268</td><td>-0.27882307</td><td>-0.287433968</td><td> 0.7066898036</td><td> 0.03617750</td><td> 0.20909942</td><td>-0.06871364</td><td>-0.02175808</td><td> 0.037714652</td><td> 0.03611752</td><td> 0.0007849964</td><td> 0.02763804</td><td> 0.0005784322</td><td>-0.008327867</td></tr>\n",
                            "\t<tr><th scope=row>v5</th><td>-0.032052233</td><td>-0.01604656</td><td>-0.017542351</td><td> 0.0361775017</td><td> 0.84090996</td><td> 0.04910812</td><td>-0.13822504</td><td>-0.34651264</td><td> 0.103342664</td><td> 0.08835613</td><td> 0.0641774094</td><td>-0.03387235</td><td> 0.0823253788</td><td>-0.243679622</td></tr>\n",
                            "\t<tr><th scope=row>v6</th><td>-0.241117757</td><td> 0.11508507</td><td>-0.269717033</td><td> 0.2090994241</td><td> 0.04910812</td><td> 0.73646005</td><td>-0.30526568</td><td> 0.05852229</td><td>-0.082475783</td><td> 0.01446685</td><td> 0.0100763371</td><td>-0.12794941</td><td> 0.0165387008</td><td>-0.095527259</td></tr>\n",
                            "\t<tr><th scope=row>v7</th><td> 0.084149121</td><td>-0.04012611</td><td> 0.071528312</td><td>-0.0687136447</td><td>-0.13822504</td><td>-0.30526568</td><td> 0.83286310</td><td>-0.25009599</td><td> 0.034310682</td><td>-0.01520399</td><td> 0.0540496233</td><td>-0.10055459</td><td> 0.0801864990</td><td>-0.270321122</td></tr>\n",
                            "\t<tr><th scope=row>v8</th><td>-0.123290169</td><td> 0.09775106</td><td> 0.036920157</td><td>-0.0217580763</td><td>-0.34651264</td><td> 0.05852229</td><td>-0.25009599</td><td> 0.76790363</td><td>-0.264753397</td><td>-0.13128952</td><td>-0.1555863516</td><td> 0.20535947</td><td>-0.2441352219</td><td>-0.405826139</td></tr>\n",
                            "\t<tr><th scope=row>v9</th><td> 0.007766269</td><td>-0.06751530</td><td> 0.029136249</td><td> 0.0377146517</td><td> 0.10334266</td><td>-0.08247578</td><td> 0.03431068</td><td>-0.26475340</td><td> 0.828830386</td><td>-0.09919650</td><td>-0.1738421187</td><td>-0.12619244</td><td>-0.2173360375</td><td> 0.105994996</td></tr>\n",
                            "\t<tr><th scope=row>v10</th><td>-0.045529944</td><td> 0.05772040</td><td>-0.065258686</td><td> 0.0361175179</td><td> 0.08835613</td><td> 0.01446685</td><td>-0.01520399</td><td>-0.13128952</td><td>-0.099196496</td><td> 0.88966489</td><td>-0.1171258116</td><td>-0.05828785</td><td>-0.0907246854</td><td> 0.033103223</td></tr>\n",
                            "\t<tr><th scope=row>v11</th><td>-0.026752878</td><td>-0.03256246</td><td> 0.023815471</td><td> 0.0007849964</td><td> 0.06417741</td><td> 0.01007634</td><td> 0.05404962</td><td>-0.15558635</td><td>-0.173842119</td><td>-0.11712581</td><td> 0.8147843990</td><td>-0.10089384</td><td>-0.3840492941</td><td> 0.041600932</td></tr>\n",
                            "\t<tr><th scope=row>v12</th><td> 0.027637210</td><td>-0.09314801</td><td> 0.046620513</td><td> 0.0276380436</td><td>-0.03387235</td><td>-0.12794941</td><td>-0.10055459</td><td> 0.20535947</td><td>-0.126192438</td><td>-0.05828785</td><td>-0.1008938385</td><td> 0.70010319</td><td>-0.1214577490</td><td>-0.136418530</td></tr>\n",
                            "\t<tr><th scope=row>v13</th><td> 0.006321506</td><td>-0.04164715</td><td> 0.007231184</td><td> 0.0005784322</td><td> 0.08232538</td><td> 0.01653870</td><td> 0.08018650</td><td>-0.24413522</td><td>-0.217336038</td><td>-0.09072469</td><td>-0.3840492941</td><td>-0.12145775</td><td> 0.7842777241</td><td> 0.089133451</td></tr>\n",
                            "\t<tr><th scope=row>v14</th><td> 0.016878616</td><td>-0.05290365</td><td> 0.051848044</td><td>-0.0083278670</td><td>-0.24367962</td><td>-0.09552726</td><td>-0.27032112</td><td>-0.40582614</td><td> 0.105994996</td><td> 0.03310322</td><td> 0.0416009321</td><td>-0.13641853</td><td> 0.0891334509</td><td> 0.816874040</td></tr>\n",
                            "</tbody>\n",
                            "</table>\n",
                            "</dd>\n",
                            "\t<dt>$KMO</dt>\n",
                            "\t\t<dd>0.781232715482133</dd>\n",
                            "</dl>\n"
                        ],
                        "text/latex": [
                            "\\begin{description}\n",
                            "\\item[\\$AIR] A matrix: 14 × 14 of type dbl\n",
                            "\\begin{tabular}{r|llllllllllllll}\n",
                            "  & v1 & v2 & v3 & v4 & v5 & v6 & v7 & v8 & v9 & v10 & v11 & v12 & v13 & v14\\\\\n",
                            "\\hline\n",
                            "\tv1 &  0.741859921 & -0.07770791 & -0.542176329 & -0.0555122685 & -0.03205223 & -0.24111776 &  0.08414912 & -0.12329017 &  0.007766269 & -0.04552994 & -0.0267528781 &  0.02763721 &  0.0063215055 &  0.016878616\\\\\n",
                            "\tv2 & -0.077707910 &  0.75273127 & -0.213578449 & -0.2788230696 & -0.01604656 &  0.11508507 & -0.04012611 &  0.09775106 & -0.067515295 &  0.05772040 & -0.0325624605 & -0.09314801 & -0.0416471502 & -0.052903652\\\\\n",
                            "\tv3 & -0.542176329 & -0.21357845 &  0.681731135 & -0.2874339677 & -0.01754235 & -0.26971703 &  0.07152831 &  0.03692016 &  0.029136249 & -0.06525869 &  0.0238154706 &  0.04662051 &  0.0072311841 &  0.051848044\\\\\n",
                            "\tv4 & -0.055512268 & -0.27882307 & -0.287433968 &  0.7066898036 &  0.03617750 &  0.20909942 & -0.06871364 & -0.02175808 &  0.037714652 &  0.03611752 &  0.0007849964 &  0.02763804 &  0.0005784322 & -0.008327867\\\\\n",
                            "\tv5 & -0.032052233 & -0.01604656 & -0.017542351 &  0.0361775017 &  0.84090996 &  0.04910812 & -0.13822504 & -0.34651264 &  0.103342664 &  0.08835613 &  0.0641774094 & -0.03387235 &  0.0823253788 & -0.243679622\\\\\n",
                            "\tv6 & -0.241117757 &  0.11508507 & -0.269717033 &  0.2090994241 &  0.04910812 &  0.73646005 & -0.30526568 &  0.05852229 & -0.082475783 &  0.01446685 &  0.0100763371 & -0.12794941 &  0.0165387008 & -0.095527259\\\\\n",
                            "\tv7 &  0.084149121 & -0.04012611 &  0.071528312 & -0.0687136447 & -0.13822504 & -0.30526568 &  0.83286310 & -0.25009599 &  0.034310682 & -0.01520399 &  0.0540496233 & -0.10055459 &  0.0801864990 & -0.270321122\\\\\n",
                            "\tv8 & -0.123290169 &  0.09775106 &  0.036920157 & -0.0217580763 & -0.34651264 &  0.05852229 & -0.25009599 &  0.76790363 & -0.264753397 & -0.13128952 & -0.1555863516 &  0.20535947 & -0.2441352219 & -0.405826139\\\\\n",
                            "\tv9 &  0.007766269 & -0.06751530 &  0.029136249 &  0.0377146517 &  0.10334266 & -0.08247578 &  0.03431068 & -0.26475340 &  0.828830386 & -0.09919650 & -0.1738421187 & -0.12619244 & -0.2173360375 &  0.105994996\\\\\n",
                            "\tv10 & -0.045529944 &  0.05772040 & -0.065258686 &  0.0361175179 &  0.08835613 &  0.01446685 & -0.01520399 & -0.13128952 & -0.099196496 &  0.88966489 & -0.1171258116 & -0.05828785 & -0.0907246854 &  0.033103223\\\\\n",
                            "\tv11 & -0.026752878 & -0.03256246 &  0.023815471 &  0.0007849964 &  0.06417741 &  0.01007634 &  0.05404962 & -0.15558635 & -0.173842119 & -0.11712581 &  0.8147843990 & -0.10089384 & -0.3840492941 &  0.041600932\\\\\n",
                            "\tv12 &  0.027637210 & -0.09314801 &  0.046620513 &  0.0276380436 & -0.03387235 & -0.12794941 & -0.10055459 &  0.20535947 & -0.126192438 & -0.05828785 & -0.1008938385 &  0.70010319 & -0.1214577490 & -0.136418530\\\\\n",
                            "\tv13 &  0.006321506 & -0.04164715 &  0.007231184 &  0.0005784322 &  0.08232538 &  0.01653870 &  0.08018650 & -0.24413522 & -0.217336038 & -0.09072469 & -0.3840492941 & -0.12145775 &  0.7842777241 &  0.089133451\\\\\n",
                            "\tv14 &  0.016878616 & -0.05290365 &  0.051848044 & -0.0083278670 & -0.24367962 & -0.09552726 & -0.27032112 & -0.40582614 &  0.105994996 &  0.03310322 &  0.0416009321 & -0.13641853 &  0.0891334509 &  0.816874040\\\\\n",
                            "\\end{tabular}\n",
                            "\n",
                            "\\item[\\$KMO] 0.781232715482133\n",
                            "\\end{description}\n"
                        ],
                        "text/markdown": [
                            "$AIR\n",
                            ":   \n",
                            "A matrix: 14 × 14 of type dbl\n",
                            "\n",
                            "| <!--/--> | v1 | v2 | v3 | v4 | v5 | v6 | v7 | v8 | v9 | v10 | v11 | v12 | v13 | v14 |\n",
                            "|---|---|---|---|---|---|---|---|---|---|---|---|---|---|---|\n",
                            "| v1 |  0.741859921 | -0.07770791 | -0.542176329 | -0.0555122685 | -0.03205223 | -0.24111776 |  0.08414912 | -0.12329017 |  0.007766269 | -0.04552994 | -0.0267528781 |  0.02763721 |  0.0063215055 |  0.016878616 |\n",
                            "| v2 | -0.077707910 |  0.75273127 | -0.213578449 | -0.2788230696 | -0.01604656 |  0.11508507 | -0.04012611 |  0.09775106 | -0.067515295 |  0.05772040 | -0.0325624605 | -0.09314801 | -0.0416471502 | -0.052903652 |\n",
                            "| v3 | -0.542176329 | -0.21357845 |  0.681731135 | -0.2874339677 | -0.01754235 | -0.26971703 |  0.07152831 |  0.03692016 |  0.029136249 | -0.06525869 |  0.0238154706 |  0.04662051 |  0.0072311841 |  0.051848044 |\n",
                            "| v4 | -0.055512268 | -0.27882307 | -0.287433968 |  0.7066898036 |  0.03617750 |  0.20909942 | -0.06871364 | -0.02175808 |  0.037714652 |  0.03611752 |  0.0007849964 |  0.02763804 |  0.0005784322 | -0.008327867 |\n",
                            "| v5 | -0.032052233 | -0.01604656 | -0.017542351 |  0.0361775017 |  0.84090996 |  0.04910812 | -0.13822504 | -0.34651264 |  0.103342664 |  0.08835613 |  0.0641774094 | -0.03387235 |  0.0823253788 | -0.243679622 |\n",
                            "| v6 | -0.241117757 |  0.11508507 | -0.269717033 |  0.2090994241 |  0.04910812 |  0.73646005 | -0.30526568 |  0.05852229 | -0.082475783 |  0.01446685 |  0.0100763371 | -0.12794941 |  0.0165387008 | -0.095527259 |\n",
                            "| v7 |  0.084149121 | -0.04012611 |  0.071528312 | -0.0687136447 | -0.13822504 | -0.30526568 |  0.83286310 | -0.25009599 |  0.034310682 | -0.01520399 |  0.0540496233 | -0.10055459 |  0.0801864990 | -0.270321122 |\n",
                            "| v8 | -0.123290169 |  0.09775106 |  0.036920157 | -0.0217580763 | -0.34651264 |  0.05852229 | -0.25009599 |  0.76790363 | -0.264753397 | -0.13128952 | -0.1555863516 |  0.20535947 | -0.2441352219 | -0.405826139 |\n",
                            "| v9 |  0.007766269 | -0.06751530 |  0.029136249 |  0.0377146517 |  0.10334266 | -0.08247578 |  0.03431068 | -0.26475340 |  0.828830386 | -0.09919650 | -0.1738421187 | -0.12619244 | -0.2173360375 |  0.105994996 |\n",
                            "| v10 | -0.045529944 |  0.05772040 | -0.065258686 |  0.0361175179 |  0.08835613 |  0.01446685 | -0.01520399 | -0.13128952 | -0.099196496 |  0.88966489 | -0.1171258116 | -0.05828785 | -0.0907246854 |  0.033103223 |\n",
                            "| v11 | -0.026752878 | -0.03256246 |  0.023815471 |  0.0007849964 |  0.06417741 |  0.01007634 |  0.05404962 | -0.15558635 | -0.173842119 | -0.11712581 |  0.8147843990 | -0.10089384 | -0.3840492941 |  0.041600932 |\n",
                            "| v12 |  0.027637210 | -0.09314801 |  0.046620513 |  0.0276380436 | -0.03387235 | -0.12794941 | -0.10055459 |  0.20535947 | -0.126192438 | -0.05828785 | -0.1008938385 |  0.70010319 | -0.1214577490 | -0.136418530 |\n",
                            "| v13 |  0.006321506 | -0.04164715 |  0.007231184 |  0.0005784322 |  0.08232538 |  0.01653870 |  0.08018650 | -0.24413522 | -0.217336038 | -0.09072469 | -0.3840492941 | -0.12145775 |  0.7842777241 |  0.089133451 |\n",
                            "| v14 |  0.016878616 | -0.05290365 |  0.051848044 | -0.0083278670 | -0.24367962 | -0.09552726 | -0.27032112 | -0.40582614 |  0.105994996 |  0.03310322 |  0.0416009321 | -0.13641853 |  0.0891334509 |  0.816874040 |\n",
                            "\n",
                            "\n",
                            "$KMO\n",
                            ":   0.781232715482133\n",
                            "\n",
                            "\n"
                        ],
                        "text/plain": [
                            "$AIR\n",
                            "              v1          v2           v3            v4          v5          v6\n",
                            "v1   0.741859921 -0.07770791 -0.542176329 -0.0555122685 -0.03205223 -0.24111776\n",
                            "v2  -0.077707910  0.75273127 -0.213578449 -0.2788230696 -0.01604656  0.11508507\n",
                            "v3  -0.542176329 -0.21357845  0.681731135 -0.2874339677 -0.01754235 -0.26971703\n",
                            "v4  -0.055512268 -0.27882307 -0.287433968  0.7066898036  0.03617750  0.20909942\n",
                            "v5  -0.032052233 -0.01604656 -0.017542351  0.0361775017  0.84090996  0.04910812\n",
                            "v6  -0.241117757  0.11508507 -0.269717033  0.2090994241  0.04910812  0.73646005\n",
                            "v7   0.084149121 -0.04012611  0.071528312 -0.0687136447 -0.13822504 -0.30526568\n",
                            "v8  -0.123290169  0.09775106  0.036920157 -0.0217580763 -0.34651264  0.05852229\n",
                            "v9   0.007766269 -0.06751530  0.029136249  0.0377146517  0.10334266 -0.08247578\n",
                            "v10 -0.045529944  0.05772040 -0.065258686  0.0361175179  0.08835613  0.01446685\n",
                            "v11 -0.026752878 -0.03256246  0.023815471  0.0007849964  0.06417741  0.01007634\n",
                            "v12  0.027637210 -0.09314801  0.046620513  0.0276380436 -0.03387235 -0.12794941\n",
                            "v13  0.006321506 -0.04164715  0.007231184  0.0005784322  0.08232538  0.01653870\n",
                            "v14  0.016878616 -0.05290365  0.051848044 -0.0083278670 -0.24367962 -0.09552726\n",
                            "             v7          v8           v9         v10           v11         v12\n",
                            "v1   0.08414912 -0.12329017  0.007766269 -0.04552994 -0.0267528781  0.02763721\n",
                            "v2  -0.04012611  0.09775106 -0.067515295  0.05772040 -0.0325624605 -0.09314801\n",
                            "v3   0.07152831  0.03692016  0.029136249 -0.06525869  0.0238154706  0.04662051\n",
                            "v4  -0.06871364 -0.02175808  0.037714652  0.03611752  0.0007849964  0.02763804\n",
                            "v5  -0.13822504 -0.34651264  0.103342664  0.08835613  0.0641774094 -0.03387235\n",
                            "v6  -0.30526568  0.05852229 -0.082475783  0.01446685  0.0100763371 -0.12794941\n",
                            "v7   0.83286310 -0.25009599  0.034310682 -0.01520399  0.0540496233 -0.10055459\n",
                            "v8  -0.25009599  0.76790363 -0.264753397 -0.13128952 -0.1555863516  0.20535947\n",
                            "v9   0.03431068 -0.26475340  0.828830386 -0.09919650 -0.1738421187 -0.12619244\n",
                            "v10 -0.01520399 -0.13128952 -0.099196496  0.88966489 -0.1171258116 -0.05828785\n",
                            "v11  0.05404962 -0.15558635 -0.173842119 -0.11712581  0.8147843990 -0.10089384\n",
                            "v12 -0.10055459  0.20535947 -0.126192438 -0.05828785 -0.1008938385  0.70010319\n",
                            "v13  0.08018650 -0.24413522 -0.217336038 -0.09072469 -0.3840492941 -0.12145775\n",
                            "v14 -0.27032112 -0.40582614  0.105994996  0.03310322  0.0416009321 -0.13641853\n",
                            "              v13          v14\n",
                            "v1   0.0063215055  0.016878616\n",
                            "v2  -0.0416471502 -0.052903652\n",
                            "v3   0.0072311841  0.051848044\n",
                            "v4   0.0005784322 -0.008327867\n",
                            "v5   0.0823253788 -0.243679622\n",
                            "v6   0.0165387008 -0.095527259\n",
                            "v7   0.0801864990 -0.270321122\n",
                            "v8  -0.2441352219 -0.405826139\n",
                            "v9  -0.2173360375  0.105994996\n",
                            "v10 -0.0907246854  0.033103223\n",
                            "v11 -0.3840492941  0.041600932\n",
                            "v12 -0.1214577490 -0.136418530\n",
                            "v13  0.7842777241  0.089133451\n",
                            "v14  0.0891334509  0.816874040\n",
                            "\n",
                            "$KMO\n",
                            "[1] 0.7812327\n"
                        ]
                    },
                    "metadata": {},
                    "output_type": "display_data"
                }
            ],
            "source": [
                "# Anti-image Correlation\n",
                "library(multiUS)\n",
                "antiImage(X = data_01)\n"
            ]
        },
        {
            "cell_type": "markdown",
            "metadata": {},
            "source": [
                "<a id='scree-plot'></a>\n",
                "\n",
                "## Scree Plot\n",
                "\n",
                "It is the plot of the eigenvalues and the number of factors in the order of subtraction.\n",
                "It is used to determine the optimum number of factors to keep in the final solution.\n"
            ]
        },
        {
            "cell_type": "code",
            "execution_count": 47,
            "metadata": {
                "vscode": {
                    "languageId": "r"
                }
            },
            "outputs": [
                {
                    "data": {
                        "image/png": "[encoded data removed]",
                        "text/plain": [
                            "Plot with title \"Scree plot\""
                        ]
                    },
                    "metadata": {
                        "image/png": {
                            "height": 420,
                            "width": 420
                        }
                    },
                    "output_type": "display_data"
                }
            ],
            "source": [
                "scree(data_cor, factors = FALSE)\n"
            ]
        },
        {
            "cell_type": "markdown",
            "metadata": {},
            "source": [
                "<a id='parallel-analysis'></a>\n",
                "\n",
                "### Parallel Analysis Scree Plots\n",
                "\n",
                "Parallel analysis scree plot is a technique designed to help take some of the subjectivity out of interpreting.\n"
            ]
        },
        {
            "cell_type": "code",
            "execution_count": 48,
            "metadata": {
                "vscode": {
                    "languageId": "r"
                }
            },
            "outputs": [
                {
                    "name": "stdout",
                    "output_type": "stream",
                    "text": [
                        "Parallel analysis suggests that the number of factors =  5  and the number of components =  4 \n"
                    ]
                },
                {
                    "data": {
                        "image/png": "[encoded data removed]",
                        "text/plain": [
                            "Plot with title \"Parallel Analysis Scree Plots\""
                        ]
                    },
                    "metadata": {
                        "image/png": {
                            "height": 420,
                            "width": 420
                        }
                    },
                    "output_type": "display_data"
                }
            ],
            "source": [
                "parallel <- fa.parallel(data_01)\n"
            ]
        },
        {
            "cell_type": "markdown",
            "metadata": {},
            "source": [
                "<a id='rotated-compmatrix'></a>\n",
                "\n",
                "## Rotated Component Matrix\n",
                "\n",
                "The rotated component matrix helps in determining what the components represent.\n"
            ]
        },
        {
            "cell_type": "code",
            "execution_count": 49,
            "metadata": {
                "vscode": {
                    "languageId": "r"
                }
            },
            "outputs": [
                {
                    "data": {
                        "text/plain": [
                            "\n",
                            "Loadings:\n",
                            "    RC1    RC3    RC2   \n",
                            "v1   0.187  0.127  0.802\n",
                            "v2                 0.667\n",
                            "v3                 0.886\n",
                            "v4                 0.671\n",
                            "v5   0.827              \n",
                            "v6   0.485  0.108  0.407\n",
                            "v7   0.849              \n",
                            "v8   0.760  0.454       \n",
                            "v9          0.782       \n",
                            "v10         0.610       \n",
                            "v11         0.821       \n",
                            "v12  0.166  0.378       \n",
                            "v13         0.837       \n",
                            "v14  0.880              \n",
                            "\n",
                            "                 RC1   RC3   RC2\n",
                            "SS loadings    3.075 2.755 2.498\n",
                            "Proportion Var 0.220 0.197 0.178\n",
                            "Cumulative Var 0.220 0.416 0.595"
                        ]
                    },
                    "metadata": {},
                    "output_type": "display_data"
                }
            ],
            "source": [
                "data.fa <- principal(data_cor, nfactors = 3, rotate = \"varimax\")\n",
                "\n",
                "data.fa$loadings\n"
            ]
        },
        {
            "cell_type": "code",
            "execution_count": 50,
            "metadata": {
                "vscode": {
                    "languageId": "r"
                }
            },
            "outputs": [
                {
                    "name": "stdout",
                    "output_type": "stream",
                    "text": [
                        "Principal Components Analysis\n",
                        "Call: principal(r = data_cor, nfactors = 3, rotate = \"varimax\")\n",
                        "Standardized loadings (pattern matrix) based upon correlation matrix\n",
                        "    item   RC1   RC3   RC2   h2   u2 com\n",
                        "v14   14  0.88  0.08 -0.01 0.78 0.22 1.0\n",
                        "v7     7  0.85  0.07  0.02 0.73 0.27 1.0\n",
                        "v5     5  0.83 -0.02 -0.01 0.68 0.32 1.0\n",
                        "v8     8  0.76  0.45  0.00 0.78 0.22 1.6\n",
                        "v6     6  0.49  0.11  0.41 0.41 0.59 2.1\n",
                        "v13   13  0.01  0.84  0.02 0.70 0.30 1.0\n",
                        "v11   11  0.02  0.82  0.02 0.68 0.32 1.0\n",
                        "v9     9  0.09  0.78  0.02 0.62 0.38 1.0\n",
                        "v10   10  0.06  0.61  0.08 0.38 0.62 1.1\n",
                        "v12   12  0.17  0.38  0.02 0.17 0.83 1.4\n",
                        "v3     3  0.04  0.02  0.89 0.79 0.21 1.0\n",
                        "v1     1  0.19  0.13  0.80 0.69 0.31 1.2\n",
                        "v4     4 -0.06 -0.06  0.67 0.46 0.54 1.0\n",
                        "v2     2 -0.06  0.06  0.67 0.45 0.55 1.0\n",
                        "\n",
                        "                       RC1  RC3  RC2\n",
                        "SS loadings           3.07 2.76 2.50\n",
                        "Proportion Var        0.22 0.20 0.18\n",
                        "Cumulative Var        0.22 0.42 0.59\n",
                        "Proportion Explained  0.37 0.33 0.30\n",
                        "Cumulative Proportion 0.37 0.70 1.00\n",
                        "\n",
                        "Mean item complexity =  1.2\n",
                        "Test of the hypothesis that 3 components are sufficient.\n",
                        "\n",
                        "The root mean square of the residuals (RMSR) is  0.07 \n",
                        "\n",
                        "Fit based upon off diagonal values = 0.93"
                    ]
                }
            ],
            "source": [
                "print.psych(data.fa, sort = TRUE)\n",
                "\n",
                "\n",
                "# ICLUST.sort(data.fa$loadings,labels = NULL,keys = FALSE,clustsort = TRUE)\n"
            ]
        },
        {
            "attachments": {},
            "cell_type": "markdown",
            "metadata": {},
            "source": [
                "- **Extraction Method:** Principal Component Analysis.\n",
                "\n",
                "- **Rotation Method:** Varimax with Kaiser Normalization.\n",
                "\n",
                "  - Rotation converged in 4 iterations.\n",
                "\n",
                "Varimax Rotation: It is used as a statistical technique used at one level of factor analysis as an attempt to clarify the relationship between factors.\n",
                "In short, it tries to redistribute factor loads such that each variable measures exactly one factor.\n",
                "\n",
                "<u>**NOTE**</u><br> For _IBM SPSS Statistics_ : `Analyze > Dimension Reduction > Factor`.\n",
                "You can perform the analysis by ticking the ones you want in the \"Options\" section."
            ]
        },
        {
            "attachments": {},
            "cell_type": "markdown",
            "metadata": {},
            "source": [
                "<a id='graph-factor-loading'></a>\n",
                "\n",
                "### Graph Factor Loading Matrices"
            ]
        },
        {
            "cell_type": "code",
            "execution_count": 51,
            "metadata": {
                "vscode": {
                    "languageId": "r"
                }
            },
            "outputs": [
                {
                    "data": {
                        "image/png": "[encoded data removed]",
                        "text/plain": [
                            "Plot with title \"Components Analysis\""
                        ]
                    },
                    "metadata": {
                        "image/png": {
                            "height": 420,
                            "width": 420
                        }
                    },
                    "output_type": "display_data"
                }
            ],
            "source": [
                "fa.diagram(data.fa)\n"
            ]
        },
        {
            "attachments": {},
            "cell_type": "markdown",
            "metadata": {},
            "source": [
                "<u>**Interpretation**</u><br>\n",
                "\n",
                "v6 and v12 is a low-contribution variable."
            ]
        },
        {
            "attachments": {},
            "cell_type": "markdown",
            "metadata": {},
            "source": [
                "<a id='cronbach-alpha'></a>\n",
                "\n",
                "## Cronbach's Alpha\n",
                "\n",
                "It helps measure the internal consistency of a set of data.\n",
                "It is a reliability coefficient.\n",
                "Provides verification of the consistency of a questionnaire or survey.\n"
            ]
        },
        {
            "cell_type": "code",
            "execution_count": 52,
            "metadata": {
                "vscode": {
                    "languageId": "r"
                }
            },
            "outputs": [
                {
                    "data": {
                        "text/plain": [
                            "\n",
                            "Cronbach's alpha for the 'rc1_alpha' data-set\n",
                            "\n",
                            "Items: 4\n",
                            "Sample units: 103904\n",
                            "alpha: 0.876\n"
                        ]
                    },
                    "metadata": {},
                    "output_type": "display_data"
                },
                {
                    "data": {
                        "text/plain": [
                            "\n",
                            "Cronbach's alpha for the 'rc3_alpha' data-set\n",
                            "\n",
                            "Items: 4\n",
                            "Sample units: 103904\n",
                            "alpha: 0.772\n"
                        ]
                    },
                    "metadata": {},
                    "output_type": "display_data"
                },
                {
                    "data": {
                        "text/plain": [
                            "\n",
                            "Cronbach's alpha for the 'rc2_alpha' data-set\n",
                            "\n",
                            "Items: 4\n",
                            "Sample units: 103904\n",
                            "alpha: 0.768\n"
                        ]
                    },
                    "metadata": {},
                    "output_type": "display_data"
                }
            ],
            "source": [
                "library(ltm)\n",
                "\n",
                "rc1_alpha <- data_01[, c(\"v14\", \"v7\", \"v5\", \"v8\")]\n",
                "rc3_alpha <- data_01[, c(\"v13\", \"v11\", \"v9\", \"v10\")]\n",
                "rc2_alpha <- data_01[, c(\"v3\", \"v1\", \"v4\", \"v2\")]\n",
                "\n",
                "\n",
                "# rc = rotated component\n",
                "cronbach.alpha(rc1_alpha)\n",
                "cronbach.alpha(rc3_alpha)\n",
                "cronbach.alpha(rc2_alpha)\n"
            ]
        },
        {
            "attachments": {},
            "cell_type": "markdown",
            "metadata": {},
            "source": [
                "| Range   |            |\n",
                "|---------|------------|\n",
                "| >=0.9   | Excellent  |\n",
                "| 0.8-0.9 | Good       |\n",
                "| 0.7-0.8 | Acceptable |"
            ]
        },
        {
            "attachments": {},
            "cell_type": "markdown",
            "metadata": {},
            "source": [
                "<a id='conclusion'></a>\n",
                "\n",
                "# Conclusion\n",
                "\n",
                "Factor 1: **Comfort**\n",
                "\n",
                "- Cleanliness\n",
                "- Seat Comfort\n",
                "- Food And Drink\n",
                "- Inflight Entertainment\n",
                "\n",
                "Factor 2: **Service**\n",
                "\n",
                "- Ease Of Online Booking\n",
                "- Inflight Wifi Service\n",
                "- Gate Location\n",
                "- Departure Arrival Time Convenient\n",
                "\n",
                "Factor 3: **Convenience**\n",
                "\n",
                "- Inflight Service\n",
                "- Baggage Handling\n",
                "- On Board Service\n",
                "- Leg Room Service\n"
            ]
        }
    ],
    "metadata": {
        "anaconda-cloud": "",
        "kernelspec": {
            "display_name": "R",
            "langauge": "R",
            "language": "R",
            "name": "ir"
        },
        "language_info": {
            "codemirror_mode": "r",
            "file_extension": ".r",
            "mimetype": "text/x-r-source",
            "name": "R",
            "pygments_lexer": "r",
            "version": "4.2.3"
        }
    },
    "nbformat": 4,
    "nbformat_minor": 1
}
